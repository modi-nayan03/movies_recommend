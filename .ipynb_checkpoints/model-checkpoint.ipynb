{
 "cells": [
  {
   "cell_type": "code",
   "execution_count": 4,
   "id": "c8f69d87-ef71-4d61-830c-4640635477b6",
   "metadata": {},
   "outputs": [],
   "source": [
    "import numpy as np\n",
    "import pandas as pd"
   ]
  },
  {
   "cell_type": "code",
   "execution_count": 6,
   "id": "3b5bcd8a-8ddf-42f4-961d-4590bdbe6438",
   "metadata": {},
   "outputs": [],
   "source": [
    "movies = pd.read_csv('tmdb_5000_movies.csv')\n",
    "cerdits = pd.read_csv('tmdb_5000_credits.csv')"
   ]
  },
  {
   "cell_type": "code",
   "execution_count": 7,
   "id": "3c06a7d7-00f8-415f-bc07-fe5c3fce5408",
   "metadata": {},
   "outputs": [
    {
     "data": {
      "text/html": [
       "<div>\n",
       "<style scoped>\n",
       "    .dataframe tbody tr th:only-of-type {\n",
       "        vertical-align: middle;\n",
       "    }\n",
       "\n",
       "    .dataframe tbody tr th {\n",
       "        vertical-align: top;\n",
       "    }\n",
       "\n",
       "    .dataframe thead th {\n",
       "        text-align: right;\n",
       "    }\n",
       "</style>\n",
       "<table border=\"1\" class=\"dataframe\">\n",
       "  <thead>\n",
       "    <tr style=\"text-align: right;\">\n",
       "      <th></th>\n",
       "      <th>budget</th>\n",
       "      <th>genres</th>\n",
       "      <th>homepage</th>\n",
       "      <th>id</th>\n",
       "      <th>keywords</th>\n",
       "      <th>original_language</th>\n",
       "      <th>original_title</th>\n",
       "      <th>overview</th>\n",
       "      <th>popularity</th>\n",
       "      <th>production_companies</th>\n",
       "      <th>production_countries</th>\n",
       "      <th>release_date</th>\n",
       "      <th>revenue</th>\n",
       "      <th>runtime</th>\n",
       "      <th>spoken_languages</th>\n",
       "      <th>status</th>\n",
       "      <th>tagline</th>\n",
       "      <th>title</th>\n",
       "      <th>vote_average</th>\n",
       "      <th>vote_count</th>\n",
       "    </tr>\n",
       "  </thead>\n",
       "  <tbody>\n",
       "    <tr>\n",
       "      <th>0</th>\n",
       "      <td>237000000</td>\n",
       "      <td>[{\"id\": 28, \"name\": \"Action\"}, {\"id\": 12, \"nam...</td>\n",
       "      <td>http://www.avatarmovie.com/</td>\n",
       "      <td>19995</td>\n",
       "      <td>[{\"id\": 1463, \"name\": \"culture clash\"}, {\"id\":...</td>\n",
       "      <td>en</td>\n",
       "      <td>Avatar</td>\n",
       "      <td>In the 22nd century, a paraplegic Marine is di...</td>\n",
       "      <td>150.437577</td>\n",
       "      <td>[{\"name\": \"Ingenious Film Partners\", \"id\": 289...</td>\n",
       "      <td>[{\"iso_3166_1\": \"US\", \"name\": \"United States o...</td>\n",
       "      <td>2009-12-10</td>\n",
       "      <td>2787965087</td>\n",
       "      <td>162.0</td>\n",
       "      <td>[{\"iso_639_1\": \"en\", \"name\": \"English\"}, {\"iso...</td>\n",
       "      <td>Released</td>\n",
       "      <td>Enter the World of Pandora.</td>\n",
       "      <td>Avatar</td>\n",
       "      <td>7.2</td>\n",
       "      <td>11800</td>\n",
       "    </tr>\n",
       "  </tbody>\n",
       "</table>\n",
       "</div>"
      ],
      "text/plain": [
       "      budget                                             genres  \\\n",
       "0  237000000  [{\"id\": 28, \"name\": \"Action\"}, {\"id\": 12, \"nam...   \n",
       "\n",
       "                      homepage     id  \\\n",
       "0  http://www.avatarmovie.com/  19995   \n",
       "\n",
       "                                            keywords original_language  \\\n",
       "0  [{\"id\": 1463, \"name\": \"culture clash\"}, {\"id\":...                en   \n",
       "\n",
       "  original_title                                           overview  \\\n",
       "0         Avatar  In the 22nd century, a paraplegic Marine is di...   \n",
       "\n",
       "   popularity                               production_companies  \\\n",
       "0  150.437577  [{\"name\": \"Ingenious Film Partners\", \"id\": 289...   \n",
       "\n",
       "                                production_countries release_date     revenue  \\\n",
       "0  [{\"iso_3166_1\": \"US\", \"name\": \"United States o...   2009-12-10  2787965087   \n",
       "\n",
       "   runtime                                   spoken_languages    status  \\\n",
       "0    162.0  [{\"iso_639_1\": \"en\", \"name\": \"English\"}, {\"iso...  Released   \n",
       "\n",
       "                       tagline   title  vote_average  vote_count  \n",
       "0  Enter the World of Pandora.  Avatar           7.2       11800  "
      ]
     },
     "execution_count": 7,
     "metadata": {},
     "output_type": "execute_result"
    }
   ],
   "source": [
    "movies.head(1)"
   ]
  },
  {
   "cell_type": "code",
   "execution_count": 10,
   "id": "e5b65d78-c236-467a-8c50-67bd982de5f2",
   "metadata": {},
   "outputs": [
    {
     "data": {
      "text/html": [
       "<div>\n",
       "<style scoped>\n",
       "    .dataframe tbody tr th:only-of-type {\n",
       "        vertical-align: middle;\n",
       "    }\n",
       "\n",
       "    .dataframe tbody tr th {\n",
       "        vertical-align: top;\n",
       "    }\n",
       "\n",
       "    .dataframe thead th {\n",
       "        text-align: right;\n",
       "    }\n",
       "</style>\n",
       "<table border=\"1\" class=\"dataframe\">\n",
       "  <thead>\n",
       "    <tr style=\"text-align: right;\">\n",
       "      <th></th>\n",
       "      <th>movie_id</th>\n",
       "      <th>title</th>\n",
       "      <th>cast</th>\n",
       "      <th>crew</th>\n",
       "    </tr>\n",
       "  </thead>\n",
       "  <tbody>\n",
       "    <tr>\n",
       "      <th>0</th>\n",
       "      <td>19995</td>\n",
       "      <td>Avatar</td>\n",
       "      <td>[{\"cast_id\": 242, \"character\": \"Jake Sully\", \"...</td>\n",
       "      <td>[{\"credit_id\": \"52fe48009251416c750aca23\", \"de...</td>\n",
       "    </tr>\n",
       "    <tr>\n",
       "      <th>1</th>\n",
       "      <td>285</td>\n",
       "      <td>Pirates of the Caribbean: At World's End</td>\n",
       "      <td>[{\"cast_id\": 4, \"character\": \"Captain Jack Spa...</td>\n",
       "      <td>[{\"credit_id\": \"52fe4232c3a36847f800b579\", \"de...</td>\n",
       "    </tr>\n",
       "    <tr>\n",
       "      <th>2</th>\n",
       "      <td>206647</td>\n",
       "      <td>Spectre</td>\n",
       "      <td>[{\"cast_id\": 1, \"character\": \"James Bond\", \"cr...</td>\n",
       "      <td>[{\"credit_id\": \"54805967c3a36829b5002c41\", \"de...</td>\n",
       "    </tr>\n",
       "  </tbody>\n",
       "</table>\n",
       "</div>"
      ],
      "text/plain": [
       "   movie_id                                     title  \\\n",
       "0     19995                                    Avatar   \n",
       "1       285  Pirates of the Caribbean: At World's End   \n",
       "2    206647                                   Spectre   \n",
       "\n",
       "                                                cast  \\\n",
       "0  [{\"cast_id\": 242, \"character\": \"Jake Sully\", \"...   \n",
       "1  [{\"cast_id\": 4, \"character\": \"Captain Jack Spa...   \n",
       "2  [{\"cast_id\": 1, \"character\": \"James Bond\", \"cr...   \n",
       "\n",
       "                                                crew  \n",
       "0  [{\"credit_id\": \"52fe48009251416c750aca23\", \"de...  \n",
       "1  [{\"credit_id\": \"52fe4232c3a36847f800b579\", \"de...  \n",
       "2  [{\"credit_id\": \"54805967c3a36829b5002c41\", \"de...  "
      ]
     },
     "execution_count": 10,
     "metadata": {},
     "output_type": "execute_result"
    }
   ],
   "source": [
    "cerdits.head(3)"
   ]
  },
  {
   "cell_type": "code",
   "execution_count": 12,
   "id": "4f2ddabc-8dd1-4504-99ad-03684eb33693",
   "metadata": {},
   "outputs": [
    {
     "data": {
      "text/plain": [
       "(4803, 20)"
      ]
     },
     "execution_count": 12,
     "metadata": {},
     "output_type": "execute_result"
    }
   ],
   "source": [
    "movies.shape"
   ]
  },
  {
   "cell_type": "code",
   "execution_count": 14,
   "id": "3d72069c-deb7-4c61-8564-7a74c85f990c",
   "metadata": {},
   "outputs": [
    {
     "data": {
      "text/plain": [
       "(4803, 4)"
      ]
     },
     "execution_count": 14,
     "metadata": {},
     "output_type": "execute_result"
    }
   ],
   "source": [
    "cerdits.shape"
   ]
  },
  {
   "cell_type": "code",
   "execution_count": 16,
   "id": "b9f2ea69-4a94-4b73-a17f-f260fff5a241",
   "metadata": {},
   "outputs": [],
   "source": [
    "movies = movies.merge(cerdits,on='title')"
   ]
  },
  {
   "cell_type": "code",
   "execution_count": 18,
   "id": "37066306-2b6e-419f-8541-f407492ea28f",
   "metadata": {},
   "outputs": [
    {
     "data": {
      "text/html": [
       "<div>\n",
       "<style scoped>\n",
       "    .dataframe tbody tr th:only-of-type {\n",
       "        vertical-align: middle;\n",
       "    }\n",
       "\n",
       "    .dataframe tbody tr th {\n",
       "        vertical-align: top;\n",
       "    }\n",
       "\n",
       "    .dataframe thead th {\n",
       "        text-align: right;\n",
       "    }\n",
       "</style>\n",
       "<table border=\"1\" class=\"dataframe\">\n",
       "  <thead>\n",
       "    <tr style=\"text-align: right;\">\n",
       "      <th></th>\n",
       "      <th>budget</th>\n",
       "      <th>genres</th>\n",
       "      <th>homepage</th>\n",
       "      <th>id</th>\n",
       "      <th>keywords</th>\n",
       "      <th>original_language</th>\n",
       "      <th>original_title</th>\n",
       "      <th>overview</th>\n",
       "      <th>popularity</th>\n",
       "      <th>production_companies</th>\n",
       "      <th>...</th>\n",
       "      <th>runtime</th>\n",
       "      <th>spoken_languages</th>\n",
       "      <th>status</th>\n",
       "      <th>tagline</th>\n",
       "      <th>title</th>\n",
       "      <th>vote_average</th>\n",
       "      <th>vote_count</th>\n",
       "      <th>movie_id</th>\n",
       "      <th>cast</th>\n",
       "      <th>crew</th>\n",
       "    </tr>\n",
       "  </thead>\n",
       "  <tbody>\n",
       "    <tr>\n",
       "      <th>0</th>\n",
       "      <td>237000000</td>\n",
       "      <td>[{\"id\": 28, \"name\": \"Action\"}, {\"id\": 12, \"nam...</td>\n",
       "      <td>http://www.avatarmovie.com/</td>\n",
       "      <td>19995</td>\n",
       "      <td>[{\"id\": 1463, \"name\": \"culture clash\"}, {\"id\":...</td>\n",
       "      <td>en</td>\n",
       "      <td>Avatar</td>\n",
       "      <td>In the 22nd century, a paraplegic Marine is di...</td>\n",
       "      <td>150.437577</td>\n",
       "      <td>[{\"name\": \"Ingenious Film Partners\", \"id\": 289...</td>\n",
       "      <td>...</td>\n",
       "      <td>162.0</td>\n",
       "      <td>[{\"iso_639_1\": \"en\", \"name\": \"English\"}, {\"iso...</td>\n",
       "      <td>Released</td>\n",
       "      <td>Enter the World of Pandora.</td>\n",
       "      <td>Avatar</td>\n",
       "      <td>7.2</td>\n",
       "      <td>11800</td>\n",
       "      <td>19995</td>\n",
       "      <td>[{\"cast_id\": 242, \"character\": \"Jake Sully\", \"...</td>\n",
       "      <td>[{\"credit_id\": \"52fe48009251416c750aca23\", \"de...</td>\n",
       "    </tr>\n",
       "  </tbody>\n",
       "</table>\n",
       "<p>1 rows × 23 columns</p>\n",
       "</div>"
      ],
      "text/plain": [
       "      budget                                             genres  \\\n",
       "0  237000000  [{\"id\": 28, \"name\": \"Action\"}, {\"id\": 12, \"nam...   \n",
       "\n",
       "                      homepage     id  \\\n",
       "0  http://www.avatarmovie.com/  19995   \n",
       "\n",
       "                                            keywords original_language  \\\n",
       "0  [{\"id\": 1463, \"name\": \"culture clash\"}, {\"id\":...                en   \n",
       "\n",
       "  original_title                                           overview  \\\n",
       "0         Avatar  In the 22nd century, a paraplegic Marine is di...   \n",
       "\n",
       "   popularity                               production_companies  ... runtime  \\\n",
       "0  150.437577  [{\"name\": \"Ingenious Film Partners\", \"id\": 289...  ...   162.0   \n",
       "\n",
       "                                    spoken_languages    status  \\\n",
       "0  [{\"iso_639_1\": \"en\", \"name\": \"English\"}, {\"iso...  Released   \n",
       "\n",
       "                       tagline   title vote_average vote_count movie_id  \\\n",
       "0  Enter the World of Pandora.  Avatar          7.2      11800    19995   \n",
       "\n",
       "                                                cast  \\\n",
       "0  [{\"cast_id\": 242, \"character\": \"Jake Sully\", \"...   \n",
       "\n",
       "                                                crew  \n",
       "0  [{\"credit_id\": \"52fe48009251416c750aca23\", \"de...  \n",
       "\n",
       "[1 rows x 23 columns]"
      ]
     },
     "execution_count": 18,
     "metadata": {},
     "output_type": "execute_result"
    }
   ],
   "source": [
    "movies.head(1)"
   ]
  },
  {
   "cell_type": "code",
   "execution_count": 20,
   "id": "e14406fb-832f-419b-847d-0815c48bb3a6",
   "metadata": {},
   "outputs": [
    {
     "data": {
      "text/plain": [
       "vote_average\n",
       "6.5    217\n",
       "6.0    217\n",
       "6.7    214\n",
       "6.3    207\n",
       "6.1    202\n",
       "      ... \n",
       "2.7      1\n",
       "0.5      1\n",
       "2.2      1\n",
       "1.9      1\n",
       "2.4      1\n",
       "Name: count, Length: 71, dtype: int64"
      ]
     },
     "execution_count": 20,
     "metadata": {},
     "output_type": "execute_result"
    }
   ],
   "source": [
    "movies['vote_average'].value_counts()"
   ]
  },
  {
   "cell_type": "code",
   "execution_count": 22,
   "id": "a9f989d7-a336-4e15-852a-c19d7c7af739",
   "metadata": {},
   "outputs": [],
   "source": [
    "movies = movies[['id', 'title','overview','genres','keywords','cast','crew']]"
   ]
  },
  {
   "cell_type": "code",
   "execution_count": 24,
   "id": "749e8804-d808-4c42-b6b8-92411761a9ab",
   "metadata": {
    "scrolled": true
   },
   "outputs": [
    {
     "data": {
      "text/html": [
       "<div>\n",
       "<style scoped>\n",
       "    .dataframe tbody tr th:only-of-type {\n",
       "        vertical-align: middle;\n",
       "    }\n",
       "\n",
       "    .dataframe tbody tr th {\n",
       "        vertical-align: top;\n",
       "    }\n",
       "\n",
       "    .dataframe thead th {\n",
       "        text-align: right;\n",
       "    }\n",
       "</style>\n",
       "<table border=\"1\" class=\"dataframe\">\n",
       "  <thead>\n",
       "    <tr style=\"text-align: right;\">\n",
       "      <th></th>\n",
       "      <th>id</th>\n",
       "      <th>title</th>\n",
       "      <th>overview</th>\n",
       "      <th>genres</th>\n",
       "      <th>keywords</th>\n",
       "      <th>cast</th>\n",
       "      <th>crew</th>\n",
       "    </tr>\n",
       "  </thead>\n",
       "  <tbody>\n",
       "    <tr>\n",
       "      <th>0</th>\n",
       "      <td>19995</td>\n",
       "      <td>Avatar</td>\n",
       "      <td>In the 22nd century, a paraplegic Marine is di...</td>\n",
       "      <td>[{\"id\": 28, \"name\": \"Action\"}, {\"id\": 12, \"nam...</td>\n",
       "      <td>[{\"id\": 1463, \"name\": \"culture clash\"}, {\"id\":...</td>\n",
       "      <td>[{\"cast_id\": 242, \"character\": \"Jake Sully\", \"...</td>\n",
       "      <td>[{\"credit_id\": \"52fe48009251416c750aca23\", \"de...</td>\n",
       "    </tr>\n",
       "    <tr>\n",
       "      <th>1</th>\n",
       "      <td>285</td>\n",
       "      <td>Pirates of the Caribbean: At World's End</td>\n",
       "      <td>Captain Barbossa, long believed to be dead, ha...</td>\n",
       "      <td>[{\"id\": 12, \"name\": \"Adventure\"}, {\"id\": 14, \"...</td>\n",
       "      <td>[{\"id\": 270, \"name\": \"ocean\"}, {\"id\": 726, \"na...</td>\n",
       "      <td>[{\"cast_id\": 4, \"character\": \"Captain Jack Spa...</td>\n",
       "      <td>[{\"credit_id\": \"52fe4232c3a36847f800b579\", \"de...</td>\n",
       "    </tr>\n",
       "    <tr>\n",
       "      <th>2</th>\n",
       "      <td>206647</td>\n",
       "      <td>Spectre</td>\n",
       "      <td>A cryptic message from Bond’s past sends him o...</td>\n",
       "      <td>[{\"id\": 28, \"name\": \"Action\"}, {\"id\": 12, \"nam...</td>\n",
       "      <td>[{\"id\": 470, \"name\": \"spy\"}, {\"id\": 818, \"name...</td>\n",
       "      <td>[{\"cast_id\": 1, \"character\": \"James Bond\", \"cr...</td>\n",
       "      <td>[{\"credit_id\": \"54805967c3a36829b5002c41\", \"de...</td>\n",
       "    </tr>\n",
       "    <tr>\n",
       "      <th>3</th>\n",
       "      <td>49026</td>\n",
       "      <td>The Dark Knight Rises</td>\n",
       "      <td>Following the death of District Attorney Harve...</td>\n",
       "      <td>[{\"id\": 28, \"name\": \"Action\"}, {\"id\": 80, \"nam...</td>\n",
       "      <td>[{\"id\": 849, \"name\": \"dc comics\"}, {\"id\": 853,...</td>\n",
       "      <td>[{\"cast_id\": 2, \"character\": \"Bruce Wayne / Ba...</td>\n",
       "      <td>[{\"credit_id\": \"52fe4781c3a36847f81398c3\", \"de...</td>\n",
       "    </tr>\n",
       "    <tr>\n",
       "      <th>4</th>\n",
       "      <td>49529</td>\n",
       "      <td>John Carter</td>\n",
       "      <td>John Carter is a war-weary, former military ca...</td>\n",
       "      <td>[{\"id\": 28, \"name\": \"Action\"}, {\"id\": 12, \"nam...</td>\n",
       "      <td>[{\"id\": 818, \"name\": \"based on novel\"}, {\"id\":...</td>\n",
       "      <td>[{\"cast_id\": 5, \"character\": \"John Carter\", \"c...</td>\n",
       "      <td>[{\"credit_id\": \"52fe479ac3a36847f813eaa3\", \"de...</td>\n",
       "    </tr>\n",
       "  </tbody>\n",
       "</table>\n",
       "</div>"
      ],
      "text/plain": [
       "       id                                     title  \\\n",
       "0   19995                                    Avatar   \n",
       "1     285  Pirates of the Caribbean: At World's End   \n",
       "2  206647                                   Spectre   \n",
       "3   49026                     The Dark Knight Rises   \n",
       "4   49529                               John Carter   \n",
       "\n",
       "                                            overview  \\\n",
       "0  In the 22nd century, a paraplegic Marine is di...   \n",
       "1  Captain Barbossa, long believed to be dead, ha...   \n",
       "2  A cryptic message from Bond’s past sends him o...   \n",
       "3  Following the death of District Attorney Harve...   \n",
       "4  John Carter is a war-weary, former military ca...   \n",
       "\n",
       "                                              genres  \\\n",
       "0  [{\"id\": 28, \"name\": \"Action\"}, {\"id\": 12, \"nam...   \n",
       "1  [{\"id\": 12, \"name\": \"Adventure\"}, {\"id\": 14, \"...   \n",
       "2  [{\"id\": 28, \"name\": \"Action\"}, {\"id\": 12, \"nam...   \n",
       "3  [{\"id\": 28, \"name\": \"Action\"}, {\"id\": 80, \"nam...   \n",
       "4  [{\"id\": 28, \"name\": \"Action\"}, {\"id\": 12, \"nam...   \n",
       "\n",
       "                                            keywords  \\\n",
       "0  [{\"id\": 1463, \"name\": \"culture clash\"}, {\"id\":...   \n",
       "1  [{\"id\": 270, \"name\": \"ocean\"}, {\"id\": 726, \"na...   \n",
       "2  [{\"id\": 470, \"name\": \"spy\"}, {\"id\": 818, \"name...   \n",
       "3  [{\"id\": 849, \"name\": \"dc comics\"}, {\"id\": 853,...   \n",
       "4  [{\"id\": 818, \"name\": \"based on novel\"}, {\"id\":...   \n",
       "\n",
       "                                                cast  \\\n",
       "0  [{\"cast_id\": 242, \"character\": \"Jake Sully\", \"...   \n",
       "1  [{\"cast_id\": 4, \"character\": \"Captain Jack Spa...   \n",
       "2  [{\"cast_id\": 1, \"character\": \"James Bond\", \"cr...   \n",
       "3  [{\"cast_id\": 2, \"character\": \"Bruce Wayne / Ba...   \n",
       "4  [{\"cast_id\": 5, \"character\": \"John Carter\", \"c...   \n",
       "\n",
       "                                                crew  \n",
       "0  [{\"credit_id\": \"52fe48009251416c750aca23\", \"de...  \n",
       "1  [{\"credit_id\": \"52fe4232c3a36847f800b579\", \"de...  \n",
       "2  [{\"credit_id\": \"54805967c3a36829b5002c41\", \"de...  \n",
       "3  [{\"credit_id\": \"52fe4781c3a36847f81398c3\", \"de...  \n",
       "4  [{\"credit_id\": \"52fe479ac3a36847f813eaa3\", \"de...  "
      ]
     },
     "execution_count": 24,
     "metadata": {},
     "output_type": "execute_result"
    }
   ],
   "source": [
    "movies.head()"
   ]
  },
  {
   "cell_type": "code",
   "execution_count": 26,
   "id": "912315f9-7fe6-4dac-90aa-07c8c3f77a0c",
   "metadata": {},
   "outputs": [
    {
     "data": {
      "text/plain": [
       "id          0\n",
       "title       0\n",
       "overview    3\n",
       "genres      0\n",
       "keywords    0\n",
       "cast        0\n",
       "crew        0\n",
       "dtype: int64"
      ]
     },
     "execution_count": 26,
     "metadata": {},
     "output_type": "execute_result"
    }
   ],
   "source": [
    "movies.isnull().sum()"
   ]
  },
  {
   "cell_type": "code",
   "execution_count": 28,
   "id": "f2b7bb05-f420-4b15-9dd6-8925e5a840ea",
   "metadata": {},
   "outputs": [],
   "source": [
    "movies.dropna(inplace=True)"
   ]
  },
  {
   "cell_type": "code",
   "execution_count": 30,
   "id": "25160286-2179-485c-a8bf-403d4364a7d3",
   "metadata": {},
   "outputs": [],
   "source": [
    "movies = movies.copy() "
   ]
  },
  {
   "cell_type": "code",
   "execution_count": 32,
   "id": "d2b23820-47d8-41dd-9b50-7f18c70cbad3",
   "metadata": {},
   "outputs": [],
   "source": [
    "movies.dropna(inplace=True)"
   ]
  },
  {
   "cell_type": "code",
   "execution_count": 34,
   "id": "24a3e61d-1691-4d2f-82e2-206a3838645e",
   "metadata": {},
   "outputs": [
    {
     "data": {
      "text/plain": [
       "id          0\n",
       "title       0\n",
       "overview    0\n",
       "genres      0\n",
       "keywords    0\n",
       "cast        0\n",
       "crew        0\n",
       "dtype: int64"
      ]
     },
     "execution_count": 34,
     "metadata": {},
     "output_type": "execute_result"
    }
   ],
   "source": [
    "movies.isnull().sum()"
   ]
  },
  {
   "cell_type": "code",
   "execution_count": 36,
   "id": "9a8cbd1a-99c5-4c50-80d6-7e6100d5bc8d",
   "metadata": {},
   "outputs": [
    {
     "data": {
      "text/plain": [
       "0"
      ]
     },
     "execution_count": 36,
     "metadata": {},
     "output_type": "execute_result"
    }
   ],
   "source": [
    "movies.duplicated().sum()\n"
   ]
  },
  {
   "cell_type": "code",
   "execution_count": 38,
   "id": "c8737e62-cdc4-4743-8aa7-29ec3bd6aedf",
   "metadata": {},
   "outputs": [
    {
     "data": {
      "text/plain": [
       "'[{\"id\": 14, \"name\": \"Fantasy\"}, {\"id\": 18, \"name\": \"Drama\"}, {\"id\": 53, \"name\": \"Thriller\"}, {\"id\": 9648, \"name\": \"Mystery\"}, {\"id\": 10749, \"name\": \"Romance\"}]'"
      ]
     },
     "execution_count": 38,
     "metadata": {},
     "output_type": "execute_result"
    }
   ],
   "source": [
    "movies.iloc[100].genres"
   ]
  },
  {
   "cell_type": "code",
   "execution_count": 40,
   "id": "bc66fc37-2812-4e39-b545-98a5ae0d5902",
   "metadata": {},
   "outputs": [],
   "source": [
    "def convert(obj):\n",
    "    l = []\n",
    "    for i in ast.literal_eval(obj):\n",
    "        l.append(i['name'])\n",
    "    return l"
   ]
  },
  {
   "cell_type": "code",
   "execution_count": 42,
   "id": "7e1b6946-dcc7-49f0-8576-3c9fc8917b81",
   "metadata": {},
   "outputs": [
    {
     "data": {
      "text/plain": [
       "[{'id': 28, 'name': 'Action'},\n",
       " {'id': 12, 'name': 'Adventure'},\n",
       " {'id': 80, 'name': 'Crime'}]"
      ]
     },
     "execution_count": 42,
     "metadata": {},
     "output_type": "execute_result"
    }
   ],
   "source": [
    "#this formate convet into the list form to easy to implament and convert in tags\n",
    "import ast # this lib use to specific task string convrt into the list\n",
    "ast.literal_eval('[{\"id\": 28, \"name\": \"Action\"}, {\"id\": 12, \"name\": \"Adventure\"}, {\"id\": 80, \"name\": \"Crime\"}]')\n"
   ]
  },
  {
   "cell_type": "code",
   "execution_count": 44,
   "id": "b662cc22-fa6b-469a-833f-918beb4cae53",
   "metadata": {},
   "outputs": [],
   "source": [
    "movies['genres'] = movies['genres'].apply(convert)"
   ]
  },
  {
   "cell_type": "code",
   "execution_count": 46,
   "id": "b407a1eb-ccdd-4aca-b3f7-d0fec9e99207",
   "metadata": {},
   "outputs": [
    {
     "data": {
      "text/plain": [
       "0       [Action, Adventure, Fantasy, Science Fiction]\n",
       "1                        [Adventure, Fantasy, Action]\n",
       "2                          [Action, Adventure, Crime]\n",
       "3                    [Action, Crime, Drama, Thriller]\n",
       "4                [Action, Adventure, Science Fiction]\n",
       "                            ...                      \n",
       "4804                        [Action, Crime, Thriller]\n",
       "4805                                [Comedy, Romance]\n",
       "4806               [Comedy, Drama, Romance, TV Movie]\n",
       "4807                                               []\n",
       "4808                                    [Documentary]\n",
       "Name: genres, Length: 4806, dtype: object"
      ]
     },
     "execution_count": 46,
     "metadata": {},
     "output_type": "execute_result"
    }
   ],
   "source": [
    "movies['genres']"
   ]
  },
  {
   "cell_type": "code",
   "execution_count": 48,
   "id": "179c2e17-54b5-4c49-8393-30614668bae2",
   "metadata": {},
   "outputs": [
    {
     "data": {
      "text/html": [
       "<div>\n",
       "<style scoped>\n",
       "    .dataframe tbody tr th:only-of-type {\n",
       "        vertical-align: middle;\n",
       "    }\n",
       "\n",
       "    .dataframe tbody tr th {\n",
       "        vertical-align: top;\n",
       "    }\n",
       "\n",
       "    .dataframe thead th {\n",
       "        text-align: right;\n",
       "    }\n",
       "</style>\n",
       "<table border=\"1\" class=\"dataframe\">\n",
       "  <thead>\n",
       "    <tr style=\"text-align: right;\">\n",
       "      <th></th>\n",
       "      <th>id</th>\n",
       "      <th>title</th>\n",
       "      <th>overview</th>\n",
       "      <th>genres</th>\n",
       "      <th>keywords</th>\n",
       "      <th>cast</th>\n",
       "      <th>crew</th>\n",
       "    </tr>\n",
       "  </thead>\n",
       "  <tbody>\n",
       "    <tr>\n",
       "      <th>0</th>\n",
       "      <td>19995</td>\n",
       "      <td>Avatar</td>\n",
       "      <td>In the 22nd century, a paraplegic Marine is di...</td>\n",
       "      <td>[Action, Adventure, Fantasy, Science Fiction]</td>\n",
       "      <td>[{\"id\": 1463, \"name\": \"culture clash\"}, {\"id\":...</td>\n",
       "      <td>[{\"cast_id\": 242, \"character\": \"Jake Sully\", \"...</td>\n",
       "      <td>[{\"credit_id\": \"52fe48009251416c750aca23\", \"de...</td>\n",
       "    </tr>\n",
       "    <tr>\n",
       "      <th>1</th>\n",
       "      <td>285</td>\n",
       "      <td>Pirates of the Caribbean: At World's End</td>\n",
       "      <td>Captain Barbossa, long believed to be dead, ha...</td>\n",
       "      <td>[Adventure, Fantasy, Action]</td>\n",
       "      <td>[{\"id\": 270, \"name\": \"ocean\"}, {\"id\": 726, \"na...</td>\n",
       "      <td>[{\"cast_id\": 4, \"character\": \"Captain Jack Spa...</td>\n",
       "      <td>[{\"credit_id\": \"52fe4232c3a36847f800b579\", \"de...</td>\n",
       "    </tr>\n",
       "    <tr>\n",
       "      <th>2</th>\n",
       "      <td>206647</td>\n",
       "      <td>Spectre</td>\n",
       "      <td>A cryptic message from Bond’s past sends him o...</td>\n",
       "      <td>[Action, Adventure, Crime]</td>\n",
       "      <td>[{\"id\": 470, \"name\": \"spy\"}, {\"id\": 818, \"name...</td>\n",
       "      <td>[{\"cast_id\": 1, \"character\": \"James Bond\", \"cr...</td>\n",
       "      <td>[{\"credit_id\": \"54805967c3a36829b5002c41\", \"de...</td>\n",
       "    </tr>\n",
       "    <tr>\n",
       "      <th>3</th>\n",
       "      <td>49026</td>\n",
       "      <td>The Dark Knight Rises</td>\n",
       "      <td>Following the death of District Attorney Harve...</td>\n",
       "      <td>[Action, Crime, Drama, Thriller]</td>\n",
       "      <td>[{\"id\": 849, \"name\": \"dc comics\"}, {\"id\": 853,...</td>\n",
       "      <td>[{\"cast_id\": 2, \"character\": \"Bruce Wayne / Ba...</td>\n",
       "      <td>[{\"credit_id\": \"52fe4781c3a36847f81398c3\", \"de...</td>\n",
       "    </tr>\n",
       "    <tr>\n",
       "      <th>4</th>\n",
       "      <td>49529</td>\n",
       "      <td>John Carter</td>\n",
       "      <td>John Carter is a war-weary, former military ca...</td>\n",
       "      <td>[Action, Adventure, Science Fiction]</td>\n",
       "      <td>[{\"id\": 818, \"name\": \"based on novel\"}, {\"id\":...</td>\n",
       "      <td>[{\"cast_id\": 5, \"character\": \"John Carter\", \"c...</td>\n",
       "      <td>[{\"credit_id\": \"52fe479ac3a36847f813eaa3\", \"de...</td>\n",
       "    </tr>\n",
       "  </tbody>\n",
       "</table>\n",
       "</div>"
      ],
      "text/plain": [
       "       id                                     title  \\\n",
       "0   19995                                    Avatar   \n",
       "1     285  Pirates of the Caribbean: At World's End   \n",
       "2  206647                                   Spectre   \n",
       "3   49026                     The Dark Knight Rises   \n",
       "4   49529                               John Carter   \n",
       "\n",
       "                                            overview  \\\n",
       "0  In the 22nd century, a paraplegic Marine is di...   \n",
       "1  Captain Barbossa, long believed to be dead, ha...   \n",
       "2  A cryptic message from Bond’s past sends him o...   \n",
       "3  Following the death of District Attorney Harve...   \n",
       "4  John Carter is a war-weary, former military ca...   \n",
       "\n",
       "                                          genres  \\\n",
       "0  [Action, Adventure, Fantasy, Science Fiction]   \n",
       "1                   [Adventure, Fantasy, Action]   \n",
       "2                     [Action, Adventure, Crime]   \n",
       "3               [Action, Crime, Drama, Thriller]   \n",
       "4           [Action, Adventure, Science Fiction]   \n",
       "\n",
       "                                            keywords  \\\n",
       "0  [{\"id\": 1463, \"name\": \"culture clash\"}, {\"id\":...   \n",
       "1  [{\"id\": 270, \"name\": \"ocean\"}, {\"id\": 726, \"na...   \n",
       "2  [{\"id\": 470, \"name\": \"spy\"}, {\"id\": 818, \"name...   \n",
       "3  [{\"id\": 849, \"name\": \"dc comics\"}, {\"id\": 853,...   \n",
       "4  [{\"id\": 818, \"name\": \"based on novel\"}, {\"id\":...   \n",
       "\n",
       "                                                cast  \\\n",
       "0  [{\"cast_id\": 242, \"character\": \"Jake Sully\", \"...   \n",
       "1  [{\"cast_id\": 4, \"character\": \"Captain Jack Spa...   \n",
       "2  [{\"cast_id\": 1, \"character\": \"James Bond\", \"cr...   \n",
       "3  [{\"cast_id\": 2, \"character\": \"Bruce Wayne / Ba...   \n",
       "4  [{\"cast_id\": 5, \"character\": \"John Carter\", \"c...   \n",
       "\n",
       "                                                crew  \n",
       "0  [{\"credit_id\": \"52fe48009251416c750aca23\", \"de...  \n",
       "1  [{\"credit_id\": \"52fe4232c3a36847f800b579\", \"de...  \n",
       "2  [{\"credit_id\": \"54805967c3a36829b5002c41\", \"de...  \n",
       "3  [{\"credit_id\": \"52fe4781c3a36847f81398c3\", \"de...  \n",
       "4  [{\"credit_id\": \"52fe479ac3a36847f813eaa3\", \"de...  "
      ]
     },
     "execution_count": 48,
     "metadata": {},
     "output_type": "execute_result"
    }
   ],
   "source": [
    "movies.head()"
   ]
  },
  {
   "cell_type": "code",
   "execution_count": 50,
   "id": "021b5ac3-3939-485f-a7f8-134ea47ce497",
   "metadata": {},
   "outputs": [],
   "source": [
    "movies['keywords'] = movies['keywords'].apply(convert)"
   ]
  },
  {
   "cell_type": "code",
   "execution_count": 52,
   "id": "12cf3b2e-45b3-4562-9042-d7d670719b63",
   "metadata": {},
   "outputs": [
    {
     "data": {
      "text/plain": [
       "0       [culture clash, future, space war, space colon...\n",
       "1       [ocean, drug abuse, exotic island, east india ...\n",
       "2       [spy, based on novel, secret agent, sequel, mi...\n",
       "3       [dc comics, crime fighter, terrorist, secret i...\n",
       "4       [based on novel, mars, medallion, space travel...\n",
       "                              ...                        \n",
       "4804    [united states–mexico barrier, legs, arms, pap...\n",
       "4805                                                   []\n",
       "4806    [date, love at first sight, narration, investi...\n",
       "4807                                                   []\n",
       "4808            [obsession, camcorder, crush, dream girl]\n",
       "Name: keywords, Length: 4806, dtype: object"
      ]
     },
     "execution_count": 52,
     "metadata": {},
     "output_type": "execute_result"
    }
   ],
   "source": [
    "movies['keywords']"
   ]
  },
  {
   "cell_type": "code",
   "execution_count": 54,
   "id": "0b8cc114-de44-4a0d-9a60-f57ad1f7f92d",
   "metadata": {},
   "outputs": [],
   "source": [
    "# take fist 3 name taken in cast columan \n",
    "def convert3(obj):\n",
    "    l = []\n",
    "    count = 0\n",
    "    for i in ast.literal_eval(obj):\n",
    "        if count !=3:\n",
    "            l.append(i['name'])\n",
    "            count+=1\n",
    "        else:\n",
    "            break\n",
    "    return l"
   ]
  },
  {
   "cell_type": "code",
   "execution_count": 56,
   "id": "6549b4d8-a0a1-4c3b-81ba-60ae5ddebfac",
   "metadata": {},
   "outputs": [],
   "source": [
    "movies['cast']= movies['cast'].apply(convert3)"
   ]
  },
  {
   "cell_type": "code",
   "execution_count": 57,
   "id": "dfce2d67-69b7-4938-9b07-f377dceb72a5",
   "metadata": {},
   "outputs": [
    {
     "data": {
      "text/html": [
       "<div>\n",
       "<style scoped>\n",
       "    .dataframe tbody tr th:only-of-type {\n",
       "        vertical-align: middle;\n",
       "    }\n",
       "\n",
       "    .dataframe tbody tr th {\n",
       "        vertical-align: top;\n",
       "    }\n",
       "\n",
       "    .dataframe thead th {\n",
       "        text-align: right;\n",
       "    }\n",
       "</style>\n",
       "<table border=\"1\" class=\"dataframe\">\n",
       "  <thead>\n",
       "    <tr style=\"text-align: right;\">\n",
       "      <th></th>\n",
       "      <th>id</th>\n",
       "      <th>title</th>\n",
       "      <th>overview</th>\n",
       "      <th>genres</th>\n",
       "      <th>keywords</th>\n",
       "      <th>cast</th>\n",
       "      <th>crew</th>\n",
       "    </tr>\n",
       "  </thead>\n",
       "  <tbody>\n",
       "    <tr>\n",
       "      <th>0</th>\n",
       "      <td>19995</td>\n",
       "      <td>Avatar</td>\n",
       "      <td>In the 22nd century, a paraplegic Marine is di...</td>\n",
       "      <td>[Action, Adventure, Fantasy, Science Fiction]</td>\n",
       "      <td>[culture clash, future, space war, space colon...</td>\n",
       "      <td>[Sam Worthington, Zoe Saldana, Sigourney Weaver]</td>\n",
       "      <td>[{\"credit_id\": \"52fe48009251416c750aca23\", \"de...</td>\n",
       "    </tr>\n",
       "    <tr>\n",
       "      <th>1</th>\n",
       "      <td>285</td>\n",
       "      <td>Pirates of the Caribbean: At World's End</td>\n",
       "      <td>Captain Barbossa, long believed to be dead, ha...</td>\n",
       "      <td>[Adventure, Fantasy, Action]</td>\n",
       "      <td>[ocean, drug abuse, exotic island, east india ...</td>\n",
       "      <td>[Johnny Depp, Orlando Bloom, Keira Knightley]</td>\n",
       "      <td>[{\"credit_id\": \"52fe4232c3a36847f800b579\", \"de...</td>\n",
       "    </tr>\n",
       "    <tr>\n",
       "      <th>2</th>\n",
       "      <td>206647</td>\n",
       "      <td>Spectre</td>\n",
       "      <td>A cryptic message from Bond’s past sends him o...</td>\n",
       "      <td>[Action, Adventure, Crime]</td>\n",
       "      <td>[spy, based on novel, secret agent, sequel, mi...</td>\n",
       "      <td>[Daniel Craig, Christoph Waltz, Léa Seydoux]</td>\n",
       "      <td>[{\"credit_id\": \"54805967c3a36829b5002c41\", \"de...</td>\n",
       "    </tr>\n",
       "    <tr>\n",
       "      <th>3</th>\n",
       "      <td>49026</td>\n",
       "      <td>The Dark Knight Rises</td>\n",
       "      <td>Following the death of District Attorney Harve...</td>\n",
       "      <td>[Action, Crime, Drama, Thriller]</td>\n",
       "      <td>[dc comics, crime fighter, terrorist, secret i...</td>\n",
       "      <td>[Christian Bale, Michael Caine, Gary Oldman]</td>\n",
       "      <td>[{\"credit_id\": \"52fe4781c3a36847f81398c3\", \"de...</td>\n",
       "    </tr>\n",
       "    <tr>\n",
       "      <th>4</th>\n",
       "      <td>49529</td>\n",
       "      <td>John Carter</td>\n",
       "      <td>John Carter is a war-weary, former military ca...</td>\n",
       "      <td>[Action, Adventure, Science Fiction]</td>\n",
       "      <td>[based on novel, mars, medallion, space travel...</td>\n",
       "      <td>[Taylor Kitsch, Lynn Collins, Samantha Morton]</td>\n",
       "      <td>[{\"credit_id\": \"52fe479ac3a36847f813eaa3\", \"de...</td>\n",
       "    </tr>\n",
       "  </tbody>\n",
       "</table>\n",
       "</div>"
      ],
      "text/plain": [
       "       id                                     title  \\\n",
       "0   19995                                    Avatar   \n",
       "1     285  Pirates of the Caribbean: At World's End   \n",
       "2  206647                                   Spectre   \n",
       "3   49026                     The Dark Knight Rises   \n",
       "4   49529                               John Carter   \n",
       "\n",
       "                                            overview  \\\n",
       "0  In the 22nd century, a paraplegic Marine is di...   \n",
       "1  Captain Barbossa, long believed to be dead, ha...   \n",
       "2  A cryptic message from Bond’s past sends him o...   \n",
       "3  Following the death of District Attorney Harve...   \n",
       "4  John Carter is a war-weary, former military ca...   \n",
       "\n",
       "                                          genres  \\\n",
       "0  [Action, Adventure, Fantasy, Science Fiction]   \n",
       "1                   [Adventure, Fantasy, Action]   \n",
       "2                     [Action, Adventure, Crime]   \n",
       "3               [Action, Crime, Drama, Thriller]   \n",
       "4           [Action, Adventure, Science Fiction]   \n",
       "\n",
       "                                            keywords  \\\n",
       "0  [culture clash, future, space war, space colon...   \n",
       "1  [ocean, drug abuse, exotic island, east india ...   \n",
       "2  [spy, based on novel, secret agent, sequel, mi...   \n",
       "3  [dc comics, crime fighter, terrorist, secret i...   \n",
       "4  [based on novel, mars, medallion, space travel...   \n",
       "\n",
       "                                               cast  \\\n",
       "0  [Sam Worthington, Zoe Saldana, Sigourney Weaver]   \n",
       "1     [Johnny Depp, Orlando Bloom, Keira Knightley]   \n",
       "2      [Daniel Craig, Christoph Waltz, Léa Seydoux]   \n",
       "3      [Christian Bale, Michael Caine, Gary Oldman]   \n",
       "4    [Taylor Kitsch, Lynn Collins, Samantha Morton]   \n",
       "\n",
       "                                                crew  \n",
       "0  [{\"credit_id\": \"52fe48009251416c750aca23\", \"de...  \n",
       "1  [{\"credit_id\": \"52fe4232c3a36847f800b579\", \"de...  \n",
       "2  [{\"credit_id\": \"54805967c3a36829b5002c41\", \"de...  \n",
       "3  [{\"credit_id\": \"52fe4781c3a36847f81398c3\", \"de...  \n",
       "4  [{\"credit_id\": \"52fe479ac3a36847f813eaa3\", \"de...  "
      ]
     },
     "execution_count": 57,
     "metadata": {},
     "output_type": "execute_result"
    }
   ],
   "source": [
    "movies.head()"
   ]
  },
  {
   "cell_type": "code",
   "execution_count": 68,
   "id": "a7e0a6e8-9d7b-4994-8c35-88fc95f42b2b",
   "metadata": {},
   "outputs": [
    {
     "data": {
      "text/plain": [
       "['Daniel Craig', 'Christoph Waltz', 'Léa Seydoux']"
      ]
     },
     "execution_count": 68,
     "metadata": {},
     "output_type": "execute_result"
    }
   ],
   "source": [
    "movies.iloc[2].cast"
   ]
  },
  {
   "cell_type": "code",
   "execution_count": 70,
   "id": "b33565ff-36ac-421b-bc14-ccdcf46d6aba",
   "metadata": {},
   "outputs": [
    {
     "data": {
      "text/plain": [
       "'[{\"credit_id\": \"52fe4781c3a36847f81398c3\", \"department\": \"Sound\", \"gender\": 2, \"id\": 947, \"job\": \"Original Music Composer\", \"name\": \"Hans Zimmer\"}, {\"credit_id\": \"52fe4781c3a36847f8139899\", \"department\": \"Production\", \"gender\": 0, \"id\": 282, \"job\": \"Producer\", \"name\": \"Charles Roven\"}, {\"credit_id\": \"52fe4781c3a36847f813991b\", \"department\": \"Writing\", \"gender\": 2, \"id\": 525, \"job\": \"Screenplay\", \"name\": \"Christopher Nolan\"}, {\"credit_id\": \"52fe4781c3a36847f8139865\", \"department\": \"Directing\", \"gender\": 2, \"id\": 525, \"job\": \"Director\", \"name\": \"Christopher Nolan\"}, {\"credit_id\": \"52fe4781c3a36847f8139893\", \"department\": \"Production\", \"gender\": 2, \"id\": 525, \"job\": \"Producer\", \"name\": \"Christopher Nolan\"}, {\"credit_id\": \"52fe4781c3a36847f8139915\", \"department\": \"Writing\", \"gender\": 2, \"id\": 525, \"job\": \"Story\", \"name\": \"Christopher Nolan\"}, {\"credit_id\": \"52fe4781c3a36847f813990f\", \"department\": \"Writing\", \"gender\": 2, \"id\": 527, \"job\": \"Screenplay\", \"name\": \"Jonathan Nolan\"}, {\"credit_id\": \"52fe4781c3a36847f813989f\", \"department\": \"Production\", \"gender\": 1, \"id\": 556, \"job\": \"Producer\", \"name\": \"Emma Thomas\"}, {\"credit_id\": \"52fe4781c3a36847f81398c9\", \"department\": \"Camera\", \"gender\": 2, \"id\": 559, \"job\": \"Director of Photography\", \"name\": \"Wally Pfister\"}, {\"credit_id\": \"54c37788c3a3681421011a07\", \"department\": \"Camera\", \"gender\": 2, \"id\": 559, \"job\": \"Camera Operator\", \"name\": \"Wally Pfister\"}, {\"credit_id\": \"52fe4781c3a36847f81398d5\", \"department\": \"Production\", \"gender\": 0, \"id\": 561, \"job\": \"Casting\", \"name\": \"John Papsidera\"}, {\"credit_id\": \"52fe4781c3a36847f8139921\", \"department\": \"Writing\", \"gender\": 2, \"id\": 3893, \"job\": \"Story\", \"name\": \"David S. Goyer\"}, {\"credit_id\": \"52fe4781c3a36847f81398a5\", \"department\": \"Writing\", \"gender\": 2, \"id\": 3794, \"job\": \"Characters\", \"name\": \"Bob Kane\"}, {\"credit_id\": \"52fe4781c3a36847f81398cf\", \"department\": \"Editing\", \"gender\": 0, \"id\": 3904, \"job\": \"Editor\", \"name\": \"Lee Smith\"}, {\"credit_id\": \"52fe4781c3a36847f81398bd\", \"department\": \"Production\", \"gender\": 2, \"id\": 10949, \"job\": \"Executive Producer\", \"name\": \"Michael Uslan\"}, {\"credit_id\": \"52fe4781c3a36847f81398b1\", \"department\": \"Production\", \"gender\": 2, \"id\": 10951, \"job\": \"Executive Producer\", \"name\": \"Benjamin Melniker\"}, {\"credit_id\": \"564e1be99251414af7000269\", \"department\": \"Crew\", \"gender\": 2, \"id\": 9568, \"job\": \"Stunts\", \"name\": \"Jim Palmer\"}, {\"credit_id\": \"54c224cec3a368792c00322f\", \"department\": \"Costume & Make-Up\", \"gender\": 0, \"id\": 9991, \"job\": \"Makeup Artist\", \"name\": \"Karen Blynder\"}, {\"credit_id\": \"52fe4781c3a36847f81398f9\", \"department\": \"Costume & Make-Up\", \"gender\": 1, \"id\": 10714, \"job\": \"Costume Design\", \"name\": \"Lindy Hemming\"}, {\"credit_id\": \"52fe4781c3a36847f81398f3\", \"department\": \"Art\", \"gender\": 0, \"id\": 12039, \"job\": \"Set Decoration\", \"name\": \"Paki Smith\"}, {\"credit_id\": \"52fe4781c3a36847f8139905\", \"department\": \"Art\", \"gender\": 2, \"id\": 14762, \"job\": \"Art Direction\", \"name\": \"Robert Woodruff\"}, {\"credit_id\": \"52fe4781c3a36847f81398e1\", \"department\": \"Art\", \"gender\": 2, \"id\": 15327, \"job\": \"Production Design\", \"name\": \"Nathan Crowley\"}, {\"credit_id\": \"52fe4781c3a36847f81398e7\", \"department\": \"Art\", \"gender\": 0, \"id\": 15328, \"job\": \"Production Design\", \"name\": \"Kevin Kavanaugh\"}, {\"credit_id\": \"570b91d29251415248001736\", \"department\": \"Art\", \"gender\": 0, \"id\": 17677, \"job\": \"Supervising Art Director\", \"name\": \"Naaman Marshall\"}, {\"credit_id\": \"57c4678f92514105db0046d4\", \"department\": \"Lighting\", \"gender\": 0, \"id\": 35630, \"job\": \"Electrician\", \"name\": \"Timothy Healy\"}, {\"credit_id\": \"5745d36e92514129a0002e7c\", \"department\": \"Lighting\", \"gender\": 0, \"id\": 40120, \"job\": \"Rigging Grip\", \"name\": \"Brian \\'Buzz\\' Buzzelli\"}, {\"credit_id\": \"54c2732b9251416eae00cab6\", \"department\": \"Sound\", \"gender\": 2, \"id\": 52193, \"job\": \"ADR & Dubbing\", \"name\": \"R.J. Kizer\"}, {\"credit_id\": \"52fe4781c3a36847f81398b7\", \"department\": \"Production\", \"gender\": 0, \"id\": 54211, \"job\": \"Executive Producer\", \"name\": \"Thomas Tull\"}, {\"credit_id\": \"56aa55a092514159a5001cf3\", \"department\": \"Crew\", \"gender\": 2, \"id\": 57569, \"job\": \"Stunts\", \"name\": \"Lee Sheward\"}, {\"credit_id\": \"56817f919251417def0118c9\", \"department\": \"Crew\", \"gender\": 0, \"id\": 61329, \"job\": \"Stunts\", \"name\": \"Declan Mulvey\"}, {\"credit_id\": \"52fe4781c3a36847f81398ff\", \"department\": \"Art\", \"gender\": 0, \"id\": 62560, \"job\": \"Art Direction\", \"name\": \"Gerald Sullivan\"}, {\"credit_id\": \"54c2234d925141315a005b6b\", \"department\": \"Art\", \"gender\": 0, \"id\": 31172, \"job\": \"Art Direction\", \"name\": \"Zack Grobler\"}, {\"credit_id\": \"579d0191c3a36828b100130b\", \"department\": \"Sound\", \"gender\": 0, \"id\": 68016, \"job\": \"Orchestrator\", \"name\": \"Kevin Kaska\"}, {\"credit_id\": \"56d9d2c9925141340201f6ed\", \"department\": \"Crew\", \"gender\": 2, \"id\": 81687, \"job\": \"Stunts\", \"name\": \"Rick Avery\"}, {\"credit_id\": \"52fe4781c3a36847f81398ab\", \"department\": \"Production\", \"gender\": 2, \"id\": 75804, \"job\": \"Executive Producer\", \"name\": \"Kevin De La Noy\"}, {\"credit_id\": \"5766cb129251411323000031\", \"department\": \"Production\", \"gender\": 0, \"id\": 113913, \"job\": \"Co-Producer\", \"name\": \"Jordan Goldberg\"}, {\"credit_id\": \"54c227c2c3a3686c61012820\", \"department\": \"Production\", \"gender\": 0, \"id\": 114017, \"job\": \"Production Manager\", \"name\": \"Karl McMillan\"}, {\"credit_id\": \"54c375f6c3a36833380010e1\", \"department\": \"Visual Effects\", \"gender\": 0, \"id\": 92231, \"job\": \"VFX Supervisor\", \"name\": \"May Leung\"}, {\"credit_id\": \"56c605c9c3a3680d4e003645\", \"department\": \"Crew\", \"gender\": 2, \"id\": 122549, \"job\": \"Stunts\", \"name\": \"Philippe Vonlanthen\"}, {\"credit_id\": \"54c274859251416e6000d4ee\", \"department\": \"Sound\", \"gender\": 0, \"id\": 138618, \"job\": \"Sound Re-Recording Mixer\", \"name\": \"Gary Rizzo\"}, {\"credit_id\": \"56e76ae3c3a368408c000be7\", \"department\": \"Crew\", \"gender\": 0, \"id\": 142157, \"job\": \"Stunts\", \"name\": \"Doug Coleman\"}, {\"credit_id\": \"579794d19251411a9000004d\", \"department\": \"Crew\", \"gender\": 2, \"id\": 202930, \"job\": \"Stunts\", \"name\": \"Anthony Molinari\"}, {\"credit_id\": \"568181699251411334008948\", \"department\": \"Crew\", \"gender\": 0, \"id\": 204339, \"job\": \"Stunts\", \"name\": \"Christopher Place\"}, {\"credit_id\": \"56a7b806c3a36828b800190b\", \"department\": \"Sound\", \"gender\": 0, \"id\": 230436, \"job\": \"ADR & Dubbing\", \"name\": \"Barbara Harris\"}, {\"credit_id\": \"564e1b75c3a368070f000288\", \"department\": \"Crew\", \"gender\": 0, \"id\": 550900, \"job\": \"Stunts\", \"name\": \"Carrick O\\'Quinn\"}, {\"credit_id\": \"57531069c3a3684c100007ef\", \"department\": \"Sound\", \"gender\": 2, \"id\": 932186, \"job\": \"Orchestrator\", \"name\": \"Bruce Fowler\"}, {\"credit_id\": \"568035f3c3a3684bcc00e7b2\", \"department\": \"Crew\", \"gender\": 2, \"id\": 932748, \"job\": \"Stunts\", \"name\": \"Roy T. Anderson\"}, {\"credit_id\": \"54c2239fc3a36879290038ba\", \"department\": \"Art\", \"gender\": 2, \"id\": 969743, \"job\": \"Art Direction\", \"name\": \"Dean Wolcott\"}, {\"credit_id\": \"52fe4781c3a36847f81398db\", \"department\": \"Production\", \"gender\": 0, \"id\": 1018958, \"job\": \"Casting\", \"name\": \"Toby Whale\"}, {\"credit_id\": \"56a189729251415e5e00fd3b\", \"department\": \"Crew\", \"gender\": 2, \"id\": 1025090, \"job\": \"Stunts\", \"name\": \"Jim Wilkey\"}, {\"credit_id\": \"570b91c3c3a3684f41003b4c\", \"department\": \"Art\", \"gender\": 0, \"id\": 1034754, \"job\": \"Supervising Art Director\", \"name\": \"James Hambidge\"}, {\"credit_id\": \"568183ab9251414f6300a6f8\", \"department\": \"Crew\", \"gender\": 0, \"id\": 1045964, \"job\": \"Stunts\", \"name\": \"Aaron Vexler\"}, {\"credit_id\": \"54c37a699251412446005572\", \"department\": \"Costume & Make-Up\", \"gender\": 0, \"id\": 1046614, \"job\": \"Set Costumer\", \"name\": \"Carmia Marshall\"}, {\"credit_id\": \"54c2737bc3a368792c003905\", \"department\": \"Editing\", \"gender\": 0, \"id\": 1050930, \"job\": \"Dialogue Editor\", \"name\": \"Hugo Weng\"}, {\"credit_id\": \"57a29134c3a36832b8001afb\", \"department\": \"Crew\", \"gender\": 0, \"id\": 1061061, \"job\": \"Stunts\", \"name\": \"Adam Horton\"}, {\"credit_id\": \"56aba40e9251410e8f002cf7\", \"department\": \"Crew\", \"gender\": 0, \"id\": 1106629, \"job\": \"Stunts\", \"name\": \"Raymond Mamrak\"}, {\"credit_id\": \"54c27360925141315a0062e4\", \"department\": \"Sound\", \"gender\": 2, \"id\": 1116937, \"job\": \"Foley\", \"name\": \"John Roesch\"}, {\"credit_id\": \"54c3717792514124c8005220\", \"department\": \"Visual Effects\", \"gender\": 0, \"id\": 1155668, \"job\": \"Visual Effects Producer\", \"name\": \"Mike Chambers\"}, {\"credit_id\": \"54c226f2c3a368792c003267\", \"department\": \"Production\", \"gender\": 0, \"id\": 1270053, \"job\": \"Production Manager\", \"name\": \"Emmanuel Pappas\"}, {\"credit_id\": \"568186c0c3a36828f5006e04\", \"department\": \"Crew\", \"gender\": 0, \"id\": 1301652, \"job\": \"Stunts\", \"name\": \"Stephen W. Schriver\"}, {\"credit_id\": \"54c379b4c3a3687c4000fcd6\", \"department\": \"Costume & Make-Up\", \"gender\": 0, \"id\": 1319744, \"job\": \"Costume Supervisor\", \"name\": \"Linda Matthews\"}, {\"credit_id\": \"54c2248cc3a36878fb003164\", \"department\": \"Costume & Make-Up\", \"gender\": 0, \"id\": 1322015, \"job\": \"Makeup Department Head\", \"name\": \"Luisa Abel\"}, {\"credit_id\": \"54c2238192514124890035aa\", \"department\": \"Art\", \"gender\": 0, \"id\": 1327144, \"job\": \"Art Direction\", \"name\": \"Sue Whitaker\"}, {\"credit_id\": \"56817e2192514113340088e0\", \"department\": \"Crew\", \"gender\": 1, \"id\": 1329415, \"job\": \"Stunts\", \"name\": \"Samantha MacIvor\"}, {\"credit_id\": \"56817898c3a3684bcc011ff7\", \"department\": \"Crew\", \"gender\": 0, \"id\": 1329527, \"job\": \"Stunts\", \"name\": \"Jared Burke\"}, {\"credit_id\": \"54c3796cc3a36878d00059fb\", \"department\": \"Costume & Make-Up\", \"gender\": 0, \"id\": 1336192, \"job\": \"Costume Supervisor\", \"name\": \"Laura Downing\"}, {\"credit_id\": \"54c37a9292514124c800531e\", \"department\": \"Costume & Make-Up\", \"gender\": 0, \"id\": 1336193, \"job\": \"Set Costumer\", \"name\": \"Rebecca Levin\"}, {\"credit_id\": \"5796b492c3a3680cfa002ae3\", \"department\": \"Crew\", \"gender\": 0, \"id\": 1340941, \"job\": \"Stunts\", \"name\": \"Ray Siegle\"}, {\"credit_id\": \"54c273cf92514124ed003c05\", \"department\": \"Sound\", \"gender\": 2, \"id\": 1341403, \"job\": \"Sound Designer\", \"name\": \"Richard King\"}, {\"credit_id\": \"54c2739dc3a368792c003908\", \"department\": \"Sound\", \"gender\": 2, \"id\": 1341403, \"job\": \"Supervising Sound Editor\", \"name\": \"Richard King\"}, {\"credit_id\": \"54c27458c3a36878fb003835\", \"department\": \"Sound\", \"gender\": 0, \"id\": 1341786, \"job\": \"Sound Effects Editor\", \"name\": \"Bryan O. Watkins\"}, {\"credit_id\": \"54e4a102c3a368087b005200\", \"department\": \"Crew\", \"gender\": 0, \"id\": 1348686, \"job\": \"Production Office Assistant\", \"name\": \"Bradley Porter\"}, {\"credit_id\": \"54c22e3d92514124c8003387\", \"department\": \"Art\", \"gender\": 0, \"id\": 1355530, \"job\": \"Sculptor\", \"name\": \"Cuitlahuac Morales Velazquez\"}, {\"credit_id\": \"54c27591c3a36879290040e9\", \"department\": \"Crew\", \"gender\": 0, \"id\": 1357062, \"job\": \"Special Effects Coordinator\", \"name\": \"Scott R. Fisher\"}, {\"credit_id\": \"54c376f492514124460054fe\", \"department\": \"Camera\", \"gender\": 0, \"id\": 1357064, \"job\": \"Camera Operator\", \"name\": \"Greg Baldi\"}, {\"credit_id\": \"54c37756c3a3683338001106\", \"department\": \"Camera\", \"gender\": 0, \"id\": 1357066, \"job\": \"Camera Operator\", \"name\": \"P. Scott Sakamoto\"}, {\"credit_id\": \"54c37c5692514124c8005349\", \"department\": \"Crew\", \"gender\": 0, \"id\": 1357070, \"job\": \"Transportation Coordinator\", \"name\": \"Denny Caira\"}, {\"credit_id\": \"5681830ec3a3684be9010b3b\", \"department\": \"Crew\", \"gender\": 2, \"id\": 1358564, \"job\": \"Stunts\", \"name\": \"Trampas Thompson\"}, {\"credit_id\": \"54c37cdc92514124460055a5\", \"department\": \"Directing\", \"gender\": 2, \"id\": 1367508, \"job\": \"Script Supervisor\", \"name\": \"Steve Gehrke\"}, {\"credit_id\": \"54c37345c3a36833380010a6\", \"department\": \"Crew\", \"gender\": 0, \"id\": 1372882, \"job\": \"Visual Effects Editor\", \"name\": \"Derrick Mitchell\"}, {\"credit_id\": \"54c27414c3a368792c003910\", \"department\": \"Sound\", \"gender\": 0, \"id\": 1377222, \"job\": \"Sound Effects Editor\", \"name\": \"Michael W. Mitchell\"}, {\"credit_id\": \"54c22a06c3a368792c0032a2\", \"department\": \"Art\", \"gender\": 0, \"id\": 1378222, \"job\": \"Construction Coordinator\", \"name\": \"Joe Ondrejko\"}, {\"credit_id\": \"567607a192514179e3003fd2\", \"department\": \"Sound\", \"gender\": 0, \"id\": 1378231, \"job\": \"Sound Effects Editor\", \"name\": \"Ken J. Johnson\"}, {\"credit_id\": \"54c37b21c3a368789b0059cb\", \"department\": \"Costume & Make-Up\", \"gender\": 0, \"id\": 1378246, \"job\": \"Set Costumer\", \"name\": \"Lori Harris\"}, {\"credit_id\": \"54c37e8cc3a3681421011a9c\", \"department\": \"Crew\", \"gender\": 0, \"id\": 1378726, \"job\": \"Dialect Coach\", \"name\": \"Francie Brown\"}, {\"credit_id\": \"568185c592514132db00f267\", \"department\": \"Crew\", \"gender\": 0, \"id\": 1384390, \"job\": \"Stunts\", \"name\": \"Trevor Habberstad\"}, {\"credit_id\": \"54c22976925141315a005be2\", \"department\": \"Art\", \"gender\": 0, \"id\": 1389526, \"job\": \"Construction Coordinator\", \"name\": \"Amanda Pettett\"}, {\"credit_id\": \"54c37a01c3a36878fb00500a\", \"department\": \"Costume & Make-Up\", \"gender\": 0, \"id\": 1391648, \"job\": \"Set Costumer\", \"name\": \"Hana Rausalova\"}, {\"credit_id\": \"54c2236fc3a36878fb003141\", \"department\": \"Art\", \"gender\": 0, \"id\": 1392587, \"job\": \"Art Direction\", \"name\": \"Tom Still\"}, {\"credit_id\": \"54c2757792514124c80039d9\", \"department\": \"Crew\", \"gender\": 0, \"id\": 1393387, \"job\": \"Special Effects Coordinator\", \"name\": \"Jeff Brink\"}, {\"credit_id\": \"54c37d0492514124460055a7\", \"department\": \"Crew\", \"gender\": 0, \"id\": 1394050, \"job\": \"Dialect Coach\", \"name\": \"Paula Jack\"}, {\"credit_id\": \"54c37b3cc3a368792c0050eb\", \"department\": \"Costume & Make-Up\", \"gender\": 0, \"id\": 1395030, \"job\": \"Set Costumer\", \"name\": \"Alison Evans\"}, {\"credit_id\": \"54c37ae1c3a3687929005bf1\", \"department\": \"Costume & Make-Up\", \"gender\": 0, \"id\": 1395032, \"job\": \"Set Costumer\", \"name\": \"Amanda Jenkins\"}, {\"credit_id\": \"54c22849c3a368789b0037cf\", \"department\": \"Art\", \"gender\": 0, \"id\": 1395430, \"job\": \"Art Department Coordinator\", \"name\": \"Jenne Lee\"}, {\"credit_id\": \"54c22e1cc3a36878fb003228\", \"department\": \"Art\", \"gender\": 0, \"id\": 1395435, \"job\": \"Set Designer\", \"name\": \"Theodore Sharps\"}, {\"credit_id\": \"54c2734bc3a368789b003f6a\", \"department\": \"Sound\", \"gender\": 0, \"id\": 1397823, \"job\": \"Foley\", \"name\": \"Alyson Dee Moore\"}, {\"credit_id\": \"54c22b05c3a36878d000384e\", \"department\": \"Art\", \"gender\": 0, \"id\": 1398089, \"job\": \"Greensman\", \"name\": \"Ian Whiteford\"}, {\"credit_id\": \"54c3785cc3a36878fb004fd2\", \"department\": \"Camera\", \"gender\": 0, \"id\": 1399071, \"job\": \"Helicopter Camera\", \"name\": \"Hans Bjerno\"}, {\"credit_id\": \"54c37a339251416e6000ee25\", \"department\": \"Costume & Make-Up\", \"gender\": 0, \"id\": 1399323, \"job\": \"Set Costumer\", \"name\": \"Mustapha Mimis\"}, {\"credit_id\": \"54c22b5a9251416e6000cdc1\", \"department\": \"Art\", \"gender\": 0, \"id\": 1399463, \"job\": \"Leadman\", \"name\": \"Bruce Lee Gross\"}, {\"credit_id\": \"54c378cfc3a3687929005bb1\", \"department\": \"Camera\", \"gender\": 0, \"id\": 1399876, \"job\": \"Still Photographer\", \"name\": \"Ron Phillips\"}, {\"credit_id\": \"54c37afbc3a368792c0050e2\", \"department\": \"Costume & Make-Up\", \"gender\": 0, \"id\": 1401814, \"job\": \"Set Costumer\", \"name\": \"Alejandro M. Hernandez\"}, {\"credit_id\": \"54c37e5a925141243200588d\", \"department\": \"Crew\", \"gender\": 1, \"id\": 1402008, \"job\": \"Dialect Coach\", \"name\": \"Kathleen S. Dunn\"}, {\"credit_id\": \"57785421c3a36826c9000a83\", \"department\": \"Directing\", \"gender\": 0, \"id\": 1402079, \"job\": \"Assistant Director\", \"name\": \"Matthew Reedy\"}, {\"credit_id\": \"54c223c2c3a3686c610127d0\", \"department\": \"Costume & Make-Up\", \"gender\": 0, \"id\": 1403424, \"job\": \"Costume Design\", \"name\": \"Roberto Craciunica\"}, {\"credit_id\": \"54c227f6c3a36878fb0031a8\", \"department\": \"Production\", \"gender\": 0, \"id\": 1403427, \"job\": \"Production Supervisor\", \"name\": \"Candice D. Campos\"}, {\"credit_id\": \"54c3780d925141248900573b\", \"department\": \"Camera\", \"gender\": 0, \"id\": 1404739, \"job\": \"Helicopter Camera\", \"name\": \"Steve Koster\"}, {\"credit_id\": \"54c37482c3a36878fb004f73\", \"department\": \"Visual Effects\", \"gender\": 0, \"id\": 1408347, \"job\": \"Visual Effects Supervisor\", \"name\": \"Pete Bebb\"}, {\"credit_id\": \"54c2254892514124ed003561\", \"department\": \"Costume & Make-Up\", \"gender\": 0, \"id\": 1409824, \"job\": \"Wigmaker\", \"name\": \"Natasha Ladek\"}, {\"credit_id\": \"567d811dc3a36860e9006747\", \"department\": \"Art\", \"gender\": 0, \"id\": 1411808, \"job\": \"Painter\", \"name\": \"Chris Bertholf\"}, {\"credit_id\": \"54c224b7c3a36879290038de\", \"department\": \"Costume & Make-Up\", \"gender\": 0, \"id\": 1412185, \"job\": \"Makeup Artist\", \"name\": \"Jay Wejebe\"}, {\"credit_id\": \"54c22a7e92514124ed0035cf\", \"department\": \"Art\", \"gender\": 0, \"id\": 1413089, \"job\": \"Construction Foreman\", \"name\": \"William Gideon\"}, {\"credit_id\": \"54c3761dc3a368789b005920\", \"department\": \"Crew\", \"gender\": 0, \"id\": 1415157, \"job\": \"Sequence Supervisor\", \"name\": \"Joel Green\"}, {\"credit_id\": \"56fd6190c3a3685cda0005de\", \"department\": \"Crew\", \"gender\": 0, \"id\": 1415606, \"job\": \"Makeup Effects\", \"name\": \"Diana Choi\"}, {\"credit_id\": \"54c37e11c3a3681421011a8f\", \"department\": \"Crew\", \"gender\": 0, \"id\": 1416005, \"job\": \"Unit Publicist\", \"name\": \"Claudia Kalindjian\"}, {\"credit_id\": \"54c2233c92514124c8003261\", \"department\": \"Art\", \"gender\": 0, \"id\": 1417396, \"job\": \"Art Direction\", \"name\": \"Toby Britton\"}, {\"credit_id\": \"54c2235ec3a368142100fa9a\", \"department\": \"Art\", \"gender\": 0, \"id\": 1417397, \"job\": \"Art Direction\", \"name\": \"Jonathan Kevin Ong\"}, {\"credit_id\": \"54c223ea9251416e6000cd21\", \"department\": \"Costume & Make-Up\", \"gender\": 0, \"id\": 1417398, \"job\": \"Hairstylist\", \"name\": \"Janice Alexander\"}, {\"credit_id\": \"54c2240292514124460034ac\", \"department\": \"Costume & Make-Up\", \"gender\": 0, \"id\": 1417399, \"job\": \"Hairstylist\", \"name\": \"Patricia DeHaney\"}, {\"credit_id\": \"54c224619251416eae00c3aa\", \"department\": \"Costume & Make-Up\", \"gender\": 0, \"id\": 1417400, \"job\": \"Hairstylist\", \"name\": \"Deena Adair\"}, {\"credit_id\": \"54c225c2c3a36878d00037bb\", \"department\": \"Crew\", \"gender\": 0, \"id\": 1417403, \"job\": \"Makeup Effects\", \"name\": \"Andre Gilbert\"}, {\"credit_id\": \"54c227a49251416e6000cd7b\", \"department\": \"Production\", \"gender\": 0, \"id\": 1417406, \"job\": \"Production Manager\", \"name\": \"Michael Murray\"}, {\"credit_id\": \"54c227dc925141248900361a\", \"department\": \"Production\", \"gender\": 0, \"id\": 1417407, \"job\": \"Production Manager\", \"name\": \"Thomas Hayslip\"}, {\"credit_id\": \"54c2280ec3a3687929003931\", \"department\": \"Production\", \"gender\": 0, \"id\": 1417408, \"job\": \"Production Supervisor\", \"name\": \"Mika Saito\"}, {\"credit_id\": \"54c22867c3a3686c6101282f\", \"department\": \"Art\", \"gender\": 0, \"id\": 1417409, \"job\": \"Art Department Coordinator\", \"name\": \"Pippa Needs\"}, {\"credit_id\": \"54c22883925141244600351e\", \"department\": \"Art\", \"gender\": 0, \"id\": 1417410, \"job\": \"Art Department Coordinator\", \"name\": \"Laura Pliskin\"}, {\"credit_id\": \"54c228d49251416e6000cd90\", \"department\": \"Art\", \"gender\": 0, \"id\": 1417411, \"job\": \"Assistant Art Director\", \"name\": \"Anna Bregman\"}, {\"credit_id\": \"54c2290cc3a36878fb0031c1\", \"department\": \"Art\", \"gender\": 0, \"id\": 1417412, \"job\": \"Assistant Art Director\", \"name\": \"Robert W. Joseph\"}, {\"credit_id\": \"54c22949c3a36878d000381a\", \"department\": \"Crew\", \"gender\": 0, \"id\": 1417413, \"job\": \"Property Master\", \"name\": \"Barry Wilkinson\"}, {\"credit_id\": \"54c229eec3a36878d0003836\", \"department\": \"Art\", \"gender\": 0, \"id\": 1417414, \"job\": \"Construction Coordinator\", \"name\": \"Glen Pangione\"}, {\"credit_id\": \"594851dac3a36816f6048d7d\", \"department\": \"Art\", \"gender\": 2, \"id\": 1417415, \"job\": \"Property Master\", \"name\": \"Mychael Bates\"}, {\"credit_id\": \"54c22ac69251416eae00c42c\", \"department\": \"Art\", \"gender\": 0, \"id\": 1417416, \"job\": \"Greensman\", \"name\": \"Brandon A. Plonka\"}, {\"credit_id\": \"54c22ae3c3a368792900396e\", \"department\": \"Crew\", \"gender\": 0, \"id\": 1417417, \"job\": \"Scenic Artist\", \"name\": \"Elizabeth Tomasetti\"}, {\"credit_id\": \"54c22d4592514124c8003368\", \"department\": \"Art\", \"gender\": 0, \"id\": 1417418, \"job\": \"Leadman\", \"name\": \"Sean Ginevan\"}, {\"credit_id\": \"54c22df6c3a36878d000388e\", \"department\": \"Art\", \"gender\": 0, \"id\": 1417419, \"job\": \"Set Designer\", \"name\": \"Jason Kolowski\"}, {\"credit_id\": \"54c273ec92514124ed003c0a\", \"department\": \"Sound\", \"gender\": 0, \"id\": 1417514, \"job\": \"Sound Effects Editor\", \"name\": \"Michael Babcock\"}, {\"credit_id\": \"54c2752392514124c80039d3\", \"department\": \"Sound\", \"gender\": 0, \"id\": 1417514, \"job\": \"Sound Re-Recording Mixer\", \"name\": \"Michael Babcock\"}, {\"credit_id\": \"54c273fec3a368789b003f7a\", \"department\": \"Sound\", \"gender\": 0, \"id\": 1417515, \"job\": \"Sound Effects Editor\", \"name\": \"Randle Akerson\"}, {\"credit_id\": \"54c27428925141315a0062f5\", \"department\": \"Sound\", \"gender\": 0, \"id\": 1417516, \"job\": \"Sound Effects Editor\", \"name\": \"Jeff Sawyer\"}, {\"credit_id\": \"54c274f1c3a36879290040da\", \"department\": \"Sound\", \"gender\": 0, \"id\": 1417517, \"job\": \"Sound Re-Recording Mixer\", \"name\": \"Carlos Solis\"}, {\"credit_id\": \"54c37193c3a368792c004fed\", \"department\": \"Crew\", \"gender\": 0, \"id\": 1417820, \"job\": \"Visual Effects Editor\", \"name\": \"Nick Dacey\"}, {\"credit_id\": \"54c372959251416eae00e22d\", \"department\": \"Visual Effects\", \"gender\": 0, \"id\": 1417821, \"job\": \"Visual Effects Producer\", \"name\": \"Claudia Dehmel\"}, {\"credit_id\": \"54c372e39251416e6000ed54\", \"department\": \"Crew\", \"gender\": 0, \"id\": 1417822, \"job\": \"Visual Effects Editor\", \"name\": \"Reuben Lloyd-Pack\"}, {\"credit_id\": \"54c3731892514124c8005254\", \"department\": \"Crew\", \"gender\": 0, \"id\": 1417823, \"job\": \"Visual Effects Editor\", \"name\": \"Steve Miller\"}, {\"credit_id\": \"54c3738f9251416e6000ed5f\", \"department\": \"Crew\", \"gender\": 0, \"id\": 1417824, \"job\": \"Visual Effects Editor\", \"name\": \"Christopher Payne\"}, {\"credit_id\": \"54c374b392514124890056d9\", \"department\": \"Crew\", \"gender\": 0, \"id\": 1417825, \"job\": \"CG Supervisor\", \"name\": \"Julian Foddy\"}, {\"credit_id\": \"54c374cc9251416e6000ed85\", \"department\": \"Visual Effects\", \"gender\": 0, \"id\": 1417826, \"job\": \"Visual Effects Supervisor\", \"name\": \"Paul J. Franklin\"}, {\"credit_id\": \"54c374eec3a368789b005901\", \"department\": \"Crew\", \"gender\": 0, \"id\": 1417827, \"job\": \"CG Supervisor\", \"name\": \"Nicola Hoyle\"}, {\"credit_id\": \"54c37524c3a3687929005b32\", \"department\": \"Visual Effects\", \"gender\": 0, \"id\": 1417828, \"job\": \"Visual Effects Supervisor\", \"name\": \"Andrew Lockley\"}, {\"credit_id\": \"54c3757ac3a36833380010d3\", \"department\": \"Crew\", \"gender\": 0, \"id\": 1417829, \"job\": \"Sequence Supervisor\", \"name\": \"Alison Wortman\"}, {\"credit_id\": \"54c375b49251416e6000ed9d\", \"department\": \"Crew\", \"gender\": 0, \"id\": 1417830, \"job\": \"Sequence Supervisor\", \"name\": \"Maxx Wai In Leong\"}, {\"credit_id\": \"54c3766ac3a36814210119e7\", \"department\": \"Crew\", \"gender\": 0, \"id\": 1417831, \"job\": \"Stunt Coordinator\", \"name\": \"Sy Hollands\"}, {\"credit_id\": \"54c377e49251416e6000edfc\", \"department\": \"Lighting\", \"gender\": 0, \"id\": 1417832, \"job\": \"Gaffer\", \"name\": \"Ryan Rodriguez\"}, {\"credit_id\": \"54c3783c92514124c80052d6\", \"department\": \"Lighting\", \"gender\": 0, \"id\": 1417833, \"job\": \"Gaffer\", \"name\": \"Reuben Garrett\"}, {\"credit_id\": \"54c378719251416eae00e2db\", \"department\": \"Camera\", \"gender\": 0, \"id\": 1417834, \"job\": \"Camera Technician\", \"name\": \"Dane Bjerno\"}, {\"credit_id\": \"54c378a49251412432005815\", \"department\": \"Lighting\", \"gender\": 0, \"id\": 1417835, \"job\": \"Rigging Gaffer\", \"name\": \"Ian Franklin\"}, {\"credit_id\": \"54c379219251412446005555\", \"department\": \"Visual Effects\", \"gender\": 0, \"id\": 1417836, \"job\": \"Animation\", \"name\": \"Andrew McEvoy\"}, {\"credit_id\": \"54c3798b92514124ed005678\", \"department\": \"Costume & Make-Up\", \"gender\": 0, \"id\": 1417837, \"job\": \"Costume Supervisor\", \"name\": \"Brendan Handscombe\"}, {\"credit_id\": \"54c37ac9c3a36878fb00501a\", \"department\": \"Costume & Make-Up\", \"gender\": 0, \"id\": 1417838, \"job\": \"Set Costumer\", \"name\": \"Lindsay Kouri\"}, {\"credit_id\": \"54c37ba5c3a3683338001180\", \"department\": \"Costume & Make-Up\", \"gender\": 0, \"id\": 1417839, \"job\": \"Set Costumer\", \"name\": \"David Butler\"}, {\"credit_id\": \"54c37c01c3a3687929005c04\", \"department\": \"Editing\", \"gender\": 0, \"id\": 1417840, \"job\": \"First Assistant Editor\", \"name\": \"Eric A. Lewy\"}, {\"credit_id\": \"54c37c29925141243200586d\", \"department\": \"Sound\", \"gender\": 0, \"id\": 1417841, \"job\": \"Music Editor\", \"name\": \"Ryan Rubin\"}, {\"credit_id\": \"54c37c42c3a36878d0005a31\", \"department\": \"Crew\", \"gender\": 0, \"id\": 1417842, \"job\": \"Transportation Coordinator\", \"name\": \"Gary Birmingham\"}, {\"credit_id\": \"54c37c7592514124ed0056af\", \"department\": \"Crew\", \"gender\": 0, \"id\": 1417843, \"job\": \"Picture Car Coordinator\", \"name\": \"Tyler W. Gaisford\"}, {\"credit_id\": \"54c37d6dc3a3687c4000fd1b\", \"department\": \"Production\", \"gender\": 0, \"id\": 1417844, \"job\": \"Location Manager\", \"name\": \"Mark Somner\"}, {\"credit_id\": \"54c37d9fc3a3687c4000fd20\", \"department\": \"Production\", \"gender\": 0, \"id\": 1417845, \"job\": \"Location Manager\", \"name\": \"Joaquin Diego Prange\"}, {\"credit_id\": \"54c37dbb9251416e6000ee57\", \"department\": \"Production\", \"gender\": 0, \"id\": 1417846, \"job\": \"Location Manager\", \"name\": \"Vans Pradeep Singh Rathore\"}, {\"credit_id\": \"54c37de6c3a36878d0005a54\", \"department\": \"Production\", \"gender\": 0, \"id\": 1417847, \"job\": \"Location Manager\", \"name\": \"James A. Mahathey\"}, {\"credit_id\": \"54c37e2cc3a36833380011b6\", \"department\": \"Production\", \"gender\": 0, \"id\": 1417848, \"job\": \"Location Manager\", \"name\": \"Jonathan Hook\"}, {\"credit_id\": \"56c266579251414a89000a2a\", \"department\": \"Costume & Make-Up\", \"gender\": 0, \"id\": 1427499, \"job\": \"Hairstylist\", \"name\": \"Stephanie Hovette\"}, {\"credit_id\": \"569fd0f6c3a36858c300a313\", \"department\": \"Crew\", \"gender\": 0, \"id\": 1434599, \"job\": \"Stunts\", \"name\": \"Brian Smyj\"}, {\"credit_id\": \"56d4e8b3c3a3681e44017a1d\", \"department\": \"Editing\", \"gender\": 0, \"id\": 1440853, \"job\": \"Assistant Editor\", \"name\": \"Donald Likovich\"}, {\"credit_id\": \"56817ef292514132db00f181\", \"department\": \"Crew\", \"gender\": 0, \"id\": 1455503, \"job\": \"Stunts\", \"name\": \"Ian Mclaughlin\"}, {\"credit_id\": \"56d872209251414291007577\", \"department\": \"Production\", \"gender\": 0, \"id\": 1463954, \"job\": \"Casting\", \"name\": \"Dixie Webster\"}, {\"credit_id\": \"568180369251414f6300a677\", \"department\": \"Crew\", \"gender\": 0, \"id\": 1468581, \"job\": \"Stunts\", \"name\": \"Victor Paguia\"}, {\"credit_id\": \"5682ca7392514169d0000aae\", \"department\": \"Costume & Make-Up\", \"gender\": 0, \"id\": 1468589, \"job\": \"Assistant Costume Designer\", \"name\": \"Wade Sullivan\"}, {\"credit_id\": \"56744cfb92514179dd00006d\", \"department\": \"Crew\", \"gender\": 0, \"id\": 1483827, \"job\": \"Stunts\", \"name\": \"Sid Karne\"}, {\"credit_id\": \"5621354392514171d000883b\", \"department\": \"Directing\", \"gender\": 0, \"id\": 1483827, \"job\": \"Assistant Director\", \"name\": \"Sid Karne\"}, {\"credit_id\": \"5681e419c3a36828f5007e50\", \"department\": \"Camera\", \"gender\": 0, \"id\": 1509394, \"job\": \"Grip\", \"name\": \"Michael J. Prate\"}, {\"credit_id\": \"5681e47a92514113340099ff\", \"department\": \"Camera\", \"gender\": 0, \"id\": 1509396, \"job\": \"Grip\", \"name\": \"Tom Prate\"}, {\"credit_id\": \"567d7b08c3a3684bd00070c2\", \"department\": \"Costume & Make-Up\", \"gender\": 0, \"id\": 1516458, \"job\": \"Hairstylist\", \"name\": \"R. Cory McCutcheon\"}, {\"credit_id\": \"56ba969e92514169b3000721\", \"department\": \"Editing\", \"gender\": 0, \"id\": 1525908, \"job\": \"Assistant Editor\", \"name\": \"Anne O\\'Brien\"}, {\"credit_id\": \"578fbfa19251411d5700117b\", \"department\": \"Crew\", \"gender\": 0, \"id\": 1531529, \"job\": \"Stunts\", \"name\": \"Rex Reddick\"}, {\"credit_id\": \"57d6ea2fc3a368023a00044e\", \"department\": \"Camera\", \"gender\": 0, \"id\": 1532610, \"job\": \"First Assistant Camera\", \"name\": \"Bob Hall\"}, {\"credit_id\": \"57bf2c29c3a3685c5d003e00\", \"department\": \"Lighting\", \"gender\": 0, \"id\": 1532612, \"job\": \"Rigging Grip\", \"name\": \"Blake Pike\"}, {\"credit_id\": \"566f8003c3a3680e7300cb03\", \"department\": \"Camera\", \"gender\": 0, \"id\": 1532613, \"job\": \"First Assistant Camera\", \"name\": \"Philip Shanahan\"}, {\"credit_id\": \"56452aa6c3a36870ec006931\", \"department\": \"Crew\", \"gender\": 2, \"id\": 1535095, \"job\": \"Stunts\", \"name\": \"Dan Brown\"}, {\"credit_id\": \"56452cb89251410a4c006cdf\", \"department\": \"Camera\", \"gender\": 0, \"id\": 1535096, \"job\": \"Grip\", \"name\": \"Adam Camacho\"}, {\"credit_id\": \"56452e7ac3a36870ef006f32\", \"department\": \"Camera\", \"gender\": 0, \"id\": 1535102, \"job\": \"Grip\", \"name\": \"Shaun Sangkarat\"}, {\"credit_id\": \"56817c9ec3a3682abc00a14b\", \"department\": \"Crew\", \"gender\": 1, \"id\": 1544394, \"job\": \"Stunts\", \"name\": \"Aja Frary\"}, {\"credit_id\": \"56817c4b9251417def011851\", \"department\": \"Crew\", \"gender\": 2, \"id\": 1544395, \"job\": \"Stunts\", \"name\": \"Mark Fichera\"}, {\"credit_id\": \"566875bec3a36836970036e9\", \"department\": \"Crew\", \"gender\": 0, \"id\": 1546907, \"job\": \"Driver\", \"name\": \"Patrick Hogan\"}, {\"credit_id\": \"566dbc4a92514169e200c3cd\", \"department\": \"Costume & Make-Up\", \"gender\": 0, \"id\": 1548530, \"job\": \"Hairstylist\", \"name\": \"Robert Wilson\"}, {\"credit_id\": \"566f03c1925141500100a095\", \"department\": \"Crew\", \"gender\": 0, \"id\": 1549015, \"job\": \"Propmaker\", \"name\": \"Ray Maxwell\"}, {\"credit_id\": \"566f0f16c3a368535a011220\", \"department\": \"Crew\", \"gender\": 0, \"id\": 1549026, \"job\": \"Stunts Coordinator\", \"name\": \"Scotty Richards\"}, {\"credit_id\": \"5671a5adc3a368535a01870d\", \"department\": \"Crew\", \"gender\": 2, \"id\": 1549741, \"job\": \"Stunts\", \"name\": \"Marc Scizak\"}, {\"credit_id\": \"5672f427c3a3680712003145\", \"department\": \"Lighting\", \"gender\": 0, \"id\": 1550248, \"job\": \"Rigging Grip\", \"name\": \"Joe Guzman\"}, {\"credit_id\": \"5673487792514163b9003756\", \"department\": \"Crew\", \"gender\": 0, \"id\": 1550400, \"job\": \"Set Production Assistant\", \"name\": \"Damiano Fusca\"}, {\"credit_id\": \"56817a49c3a3682abc00a0a5\", \"department\": \"Crew\", \"gender\": 2, \"id\": 1550725, \"job\": \"Stunts\", \"name\": \"Chris Cenatiempo\"}, {\"credit_id\": \"567607cd92514179e7003fcb\", \"department\": \"Camera\", \"gender\": 0, \"id\": 1551373, \"job\": \"Camera Intern\", \"name\": \"Joey J. Cook III\"}, {\"credit_id\": \"568f076fc3a368324c0000ac\", \"department\": \"Editing\", \"gender\": 0, \"id\": 1552549, \"job\": \"Color Timer\", \"name\": \"David Orr\"}, {\"credit_id\": \"5680378d9251412e5200bc04\", \"department\": \"Crew\", \"gender\": 0, \"id\": 1554393, \"job\": \"Stunts\", \"name\": \"Scott Burik\"}, {\"credit_id\": \"5681798292514131df00eabe\", \"department\": \"Crew\", \"gender\": 0, \"id\": 1554915, \"job\": \"Stunts\", \"name\": \"Mike Burke\"}, {\"credit_id\": \"56817cecc3a3682abc00a155\", \"department\": \"Crew\", \"gender\": 0, \"id\": 1554921, \"job\": \"Stunts\", \"name\": \"Shane Geraghty\"}, {\"credit_id\": \"568180ea9251417def0118f7\", \"department\": \"Lighting\", \"gender\": 0, \"id\": 1554924, \"job\": \"Rigging Grip\", \"name\": \"Balint Pinczehelyi\"}, {\"credit_id\": \"56818203c3a36860e9010d12\", \"department\": \"Crew\", \"gender\": 0, \"id\": 1554925, \"job\": \"Stunts\", \"name\": \"Kevin Rogers\"}, {\"credit_id\": \"568182e7c3a3684be3011a16\", \"department\": \"Crew\", \"gender\": 0, \"id\": 1554926, \"job\": \"Stunts\", \"name\": \"Shawnna Thibodeau\"}, {\"credit_id\": \"568183fac3a36860e9010d53\", \"department\": \"Crew\", \"gender\": 0, \"id\": 1554931, \"job\": \"Stunts\", \"name\": \"Caroline Vexler\"}, {\"credit_id\": \"5681e190c3a3684bcc013316\", \"department\": \"Lighting\", \"gender\": 2, \"id\": 1555027, \"job\": \"Rigging Grip\", \"name\": \"Kevin Flynn\"}, {\"credit_id\": \"56b78254c3a36806ec00e6f5\", \"department\": \"Production\", \"gender\": 0, \"id\": 1564997, \"job\": \"Executive In Charge Of Production\", \"name\": \"Mark Scoon\"}, {\"credit_id\": \"56b781afc3a36806ec00e6e0\", \"department\": \"Directing\", \"gender\": 0, \"id\": 1566280, \"job\": \"Assistant Director\", \"name\": \"Nilo Otero\"}, {\"credit_id\": \"5766ccd8c3a3687f5300121a\", \"department\": \"Crew\", \"gender\": 0, \"id\": 1571601, \"job\": \"Post Production Supervisor\", \"name\": \"David E. Hall\"}, {\"credit_id\": \"573e668892514108d9000856\", \"department\": \"Crew\", \"gender\": 2, \"id\": 1622657, \"job\": \"Stunts\", \"name\": \"Mark Aaron Wagner\"}, {\"credit_id\": \"579bf757c3a3681678003103\", \"department\": \"Crew\", \"gender\": 0, \"id\": 1634437, \"job\": \"Stunts\", \"name\": \"Ed McDermott II\"}, {\"credit_id\": \"5766cc219251416995000666\", \"department\": \"Costume & Make-Up\", \"gender\": 0, \"id\": 1638257, \"job\": \"Prosthetic Supervisor\", \"name\": \"Conor O\\'Sullivan\"}, {\"credit_id\": \"5777f94a9251415f060011a6\", \"department\": \"Sound\", \"gender\": 0, \"id\": 1644412, \"job\": \"Sound Mixer\", \"name\": \"Nakul Kamte\"}, {\"credit_id\": \"577852f992514136e100208d\", \"department\": \"Production\", \"gender\": 0, \"id\": 1644543, \"job\": \"Line Producer\", \"name\": \"Dileep Singh Rathore\"}]'"
      ]
     },
     "execution_count": 70,
     "metadata": {},
     "output_type": "execute_result"
    }
   ],
   "source": [
    "movies['crew'][3]"
   ]
  },
  {
   "cell_type": "code",
   "execution_count": 72,
   "id": "58325995-1079-479e-86f0-2aa3ede70e5f",
   "metadata": {},
   "outputs": [],
   "source": [
    "def fetch_directore(obj):\n",
    "    l = []\n",
    "    for i in ast.literal_eval(obj):\n",
    "        if i['job'] == 'Director':\n",
    "            l.append(i['name'])\n",
    "            break\n",
    "    return l"
   ]
  },
  {
   "cell_type": "code",
   "execution_count": 74,
   "id": "42d4d244-e390-439f-a29e-47a1c52d359b",
   "metadata": {},
   "outputs": [
    {
     "data": {
      "text/plain": [
       "'[{\"credit_id\": \"52fe4a58c3a36847f81c8a07\", \"department\": \"Writing\", \"gender\": 2, \"id\": 10, \"job\": \"Story\", \"name\": \"Bob Peterson\"}, {\"credit_id\": \"52fe4a58c3a36847f81c89f5\", \"department\": \"Production\", \"gender\": 2, \"id\": 7879, \"job\": \"Producer\", \"name\": \"John Lasseter\"}, {\"credit_id\": \"5655353f925141018c000fb0\", \"department\": \"Sound\", \"gender\": 2, \"id\": 5359, \"job\": \"Original Music Composer\", \"name\": \"Mychael Danna\"}, {\"credit_id\": \"56553535c3a368196b000fa2\", \"department\": \"Sound\", \"gender\": 2, \"id\": 8320, \"job\": \"Original Music Composer\", \"name\": \"Jeff Danna\"}, {\"credit_id\": \"546aa774c3a3680d780004e3\", \"department\": \"Directing\", \"gender\": 2, \"id\": 21198, \"job\": \"Director\", \"name\": \"Peter Sohn\"}, {\"credit_id\": \"564b7a08c3a3686028004099\", \"department\": \"Writing\", \"gender\": 2, \"id\": 21198, \"job\": \"Story\", \"name\": \"Peter Sohn\"}, {\"credit_id\": \"56553561c3a36819920010ab\", \"department\": \"Writing\", \"gender\": 0, \"id\": 182001, \"job\": \"Story\", \"name\": \"Kelsey Mann\"}, {\"credit_id\": \"52fe4a58c3a36847f81c8a33\", \"department\": \"Production\", \"gender\": 1, \"id\": 970529, \"job\": \"Producer\", \"name\": \"Denise Ream\"}, {\"credit_id\": \"56553550925141019b000f38\", \"department\": \"Writing\", \"gender\": 0, \"id\": 1117786, \"job\": \"Story\", \"name\": \"Erik Benson\"}, {\"credit_id\": \"564b7a6ac3a36860280040aa\", \"department\": \"Writing\", \"gender\": 0, \"id\": 1457025, \"job\": \"Screenplay\", \"name\": \"Meg LeFauve\"}, {\"credit_id\": \"564b7a569251414dc4003c5b\", \"department\": \"Writing\", \"gender\": 0, \"id\": 1457025, \"job\": \"Story\", \"name\": \"Meg LeFauve\"}]'"
      ]
     },
     "execution_count": 74,
     "metadata": {},
     "output_type": "execute_result"
    }
   ],
   "source": [
    "movies['crew'][54]"
   ]
  },
  {
   "cell_type": "code",
   "execution_count": 76,
   "id": "8f9283e2-3afa-470f-a0d9-8f6b067a999e",
   "metadata": {
    "scrolled": true
   },
   "outputs": [],
   "source": [
    "movies['crew'] = movies['crew'].apply(fetch_directore)"
   ]
  },
  {
   "cell_type": "code",
   "execution_count": 77,
   "id": "016b430d-0fbe-46fe-912e-eae220c74486",
   "metadata": {},
   "outputs": [
    {
     "data": {
      "text/plain": [
       "['Gore Verbinski']"
      ]
     },
     "execution_count": 77,
     "metadata": {},
     "output_type": "execute_result"
    }
   ],
   "source": [
    "movies.iloc[1].crew"
   ]
  },
  {
   "cell_type": "code",
   "execution_count": 78,
   "id": "edb99ab3-0eb1-4419-9490-809bd8f0945d",
   "metadata": {},
   "outputs": [
    {
     "data": {
      "text/plain": [
       "0"
      ]
     },
     "execution_count": 78,
     "metadata": {},
     "output_type": "execute_result"
    }
   ],
   "source": [
    "movies['crew'].isnull().sum()"
   ]
  },
  {
   "cell_type": "code",
   "execution_count": 79,
   "id": "f7b55dc6-11af-4605-a48a-e2a213d54d7a",
   "metadata": {},
   "outputs": [
    {
     "data": {
      "text/html": [
       "<div>\n",
       "<style scoped>\n",
       "    .dataframe tbody tr th:only-of-type {\n",
       "        vertical-align: middle;\n",
       "    }\n",
       "\n",
       "    .dataframe tbody tr th {\n",
       "        vertical-align: top;\n",
       "    }\n",
       "\n",
       "    .dataframe thead th {\n",
       "        text-align: right;\n",
       "    }\n",
       "</style>\n",
       "<table border=\"1\" class=\"dataframe\">\n",
       "  <thead>\n",
       "    <tr style=\"text-align: right;\">\n",
       "      <th></th>\n",
       "      <th>id</th>\n",
       "      <th>title</th>\n",
       "      <th>overview</th>\n",
       "      <th>genres</th>\n",
       "      <th>keywords</th>\n",
       "      <th>cast</th>\n",
       "      <th>crew</th>\n",
       "    </tr>\n",
       "  </thead>\n",
       "  <tbody>\n",
       "    <tr>\n",
       "      <th>0</th>\n",
       "      <td>19995</td>\n",
       "      <td>Avatar</td>\n",
       "      <td>In the 22nd century, a paraplegic Marine is di...</td>\n",
       "      <td>[Action, Adventure, Fantasy, Science Fiction]</td>\n",
       "      <td>[culture clash, future, space war, space colon...</td>\n",
       "      <td>[Sam Worthington, Zoe Saldana, Sigourney Weaver]</td>\n",
       "      <td>[James Cameron]</td>\n",
       "    </tr>\n",
       "    <tr>\n",
       "      <th>1</th>\n",
       "      <td>285</td>\n",
       "      <td>Pirates of the Caribbean: At World's End</td>\n",
       "      <td>Captain Barbossa, long believed to be dead, ha...</td>\n",
       "      <td>[Adventure, Fantasy, Action]</td>\n",
       "      <td>[ocean, drug abuse, exotic island, east india ...</td>\n",
       "      <td>[Johnny Depp, Orlando Bloom, Keira Knightley]</td>\n",
       "      <td>[Gore Verbinski]</td>\n",
       "    </tr>\n",
       "    <tr>\n",
       "      <th>2</th>\n",
       "      <td>206647</td>\n",
       "      <td>Spectre</td>\n",
       "      <td>A cryptic message from Bond’s past sends him o...</td>\n",
       "      <td>[Action, Adventure, Crime]</td>\n",
       "      <td>[spy, based on novel, secret agent, sequel, mi...</td>\n",
       "      <td>[Daniel Craig, Christoph Waltz, Léa Seydoux]</td>\n",
       "      <td>[Sam Mendes]</td>\n",
       "    </tr>\n",
       "    <tr>\n",
       "      <th>3</th>\n",
       "      <td>49026</td>\n",
       "      <td>The Dark Knight Rises</td>\n",
       "      <td>Following the death of District Attorney Harve...</td>\n",
       "      <td>[Action, Crime, Drama, Thriller]</td>\n",
       "      <td>[dc comics, crime fighter, terrorist, secret i...</td>\n",
       "      <td>[Christian Bale, Michael Caine, Gary Oldman]</td>\n",
       "      <td>[Christopher Nolan]</td>\n",
       "    </tr>\n",
       "    <tr>\n",
       "      <th>4</th>\n",
       "      <td>49529</td>\n",
       "      <td>John Carter</td>\n",
       "      <td>John Carter is a war-weary, former military ca...</td>\n",
       "      <td>[Action, Adventure, Science Fiction]</td>\n",
       "      <td>[based on novel, mars, medallion, space travel...</td>\n",
       "      <td>[Taylor Kitsch, Lynn Collins, Samantha Morton]</td>\n",
       "      <td>[Andrew Stanton]</td>\n",
       "    </tr>\n",
       "  </tbody>\n",
       "</table>\n",
       "</div>"
      ],
      "text/plain": [
       "       id                                     title  \\\n",
       "0   19995                                    Avatar   \n",
       "1     285  Pirates of the Caribbean: At World's End   \n",
       "2  206647                                   Spectre   \n",
       "3   49026                     The Dark Knight Rises   \n",
       "4   49529                               John Carter   \n",
       "\n",
       "                                            overview  \\\n",
       "0  In the 22nd century, a paraplegic Marine is di...   \n",
       "1  Captain Barbossa, long believed to be dead, ha...   \n",
       "2  A cryptic message from Bond’s past sends him o...   \n",
       "3  Following the death of District Attorney Harve...   \n",
       "4  John Carter is a war-weary, former military ca...   \n",
       "\n",
       "                                          genres  \\\n",
       "0  [Action, Adventure, Fantasy, Science Fiction]   \n",
       "1                   [Adventure, Fantasy, Action]   \n",
       "2                     [Action, Adventure, Crime]   \n",
       "3               [Action, Crime, Drama, Thriller]   \n",
       "4           [Action, Adventure, Science Fiction]   \n",
       "\n",
       "                                            keywords  \\\n",
       "0  [culture clash, future, space war, space colon...   \n",
       "1  [ocean, drug abuse, exotic island, east india ...   \n",
       "2  [spy, based on novel, secret agent, sequel, mi...   \n",
       "3  [dc comics, crime fighter, terrorist, secret i...   \n",
       "4  [based on novel, mars, medallion, space travel...   \n",
       "\n",
       "                                               cast                 crew  \n",
       "0  [Sam Worthington, Zoe Saldana, Sigourney Weaver]      [James Cameron]  \n",
       "1     [Johnny Depp, Orlando Bloom, Keira Knightley]     [Gore Verbinski]  \n",
       "2      [Daniel Craig, Christoph Waltz, Léa Seydoux]         [Sam Mendes]  \n",
       "3      [Christian Bale, Michael Caine, Gary Oldman]  [Christopher Nolan]  \n",
       "4    [Taylor Kitsch, Lynn Collins, Samantha Morton]     [Andrew Stanton]  "
      ]
     },
     "execution_count": 79,
     "metadata": {},
     "output_type": "execute_result"
    }
   ],
   "source": [
    "movies.head()"
   ]
  },
  {
   "cell_type": "code",
   "execution_count": 101,
   "id": "742ceb8b-bb0a-425b-a68d-80ae13cee8a7",
   "metadata": {},
   "outputs": [
    {
     "data": {
      "text/plain": [
       "0           [JamesCameron]\n",
       "1          [GoreVerbinski]\n",
       "2              [SamMendes]\n",
       "3       [ChristopherNolan]\n",
       "4          [AndrewStanton]\n",
       "               ...        \n",
       "4804     [RobertRodriguez]\n",
       "4805         [EdwardBurns]\n",
       "4806          [ScottSmith]\n",
       "4807          [DanielHsia]\n",
       "4808     [BrianHerzlinger]\n",
       "Name: crew, Length: 4806, dtype: object"
      ]
     },
     "execution_count": 101,
     "metadata": {},
     "output_type": "execute_result"
    }
   ],
   "source": [
    "movies['crew']"
   ]
  },
  {
   "cell_type": "code",
   "execution_count": 103,
   "id": "87eb2a4d-c0a6-4a53-91f5-bfdda561f258",
   "metadata": {},
   "outputs": [
    {
     "ename": "AttributeError",
     "evalue": "'list' object has no attribute 'split'",
     "output_type": "error",
     "traceback": [
      "\u001b[1;31m---------------------------------------------------------------------------\u001b[0m",
      "\u001b[1;31mAttributeError\u001b[0m                            Traceback (most recent call last)",
      "Cell \u001b[1;32mIn[103], line 1\u001b[0m\n\u001b[1;32m----> 1\u001b[0m movies[\u001b[38;5;124m'\u001b[39m\u001b[38;5;124moverview\u001b[39m\u001b[38;5;124m'\u001b[39m] \u001b[38;5;241m=\u001b[39m movies[\u001b[38;5;124m'\u001b[39m\u001b[38;5;124moverview\u001b[39m\u001b[38;5;124m'\u001b[39m]\u001b[38;5;241m.\u001b[39mapply(\u001b[38;5;28;01mlambda\u001b[39;00m x:x\u001b[38;5;241m.\u001b[39msplit())\n",
      "File \u001b[1;32m~\\anaconda3\\Lib\\site-packages\\pandas\\core\\series.py:4924\u001b[0m, in \u001b[0;36mSeries.apply\u001b[1;34m(self, func, convert_dtype, args, by_row, **kwargs)\u001b[0m\n\u001b[0;32m   4789\u001b[0m \u001b[38;5;28;01mdef\u001b[39;00m \u001b[38;5;21mapply\u001b[39m(\n\u001b[0;32m   4790\u001b[0m     \u001b[38;5;28mself\u001b[39m,\n\u001b[0;32m   4791\u001b[0m     func: AggFuncType,\n\u001b[1;32m   (...)\u001b[0m\n\u001b[0;32m   4796\u001b[0m     \u001b[38;5;241m*\u001b[39m\u001b[38;5;241m*\u001b[39mkwargs,\n\u001b[0;32m   4797\u001b[0m ) \u001b[38;5;241m-\u001b[39m\u001b[38;5;241m>\u001b[39m DataFrame \u001b[38;5;241m|\u001b[39m Series:\n\u001b[0;32m   4798\u001b[0m \u001b[38;5;250m    \u001b[39m\u001b[38;5;124;03m\"\"\"\u001b[39;00m\n\u001b[0;32m   4799\u001b[0m \u001b[38;5;124;03m    Invoke function on values of Series.\u001b[39;00m\n\u001b[0;32m   4800\u001b[0m \n\u001b[1;32m   (...)\u001b[0m\n\u001b[0;32m   4915\u001b[0m \u001b[38;5;124;03m    dtype: float64\u001b[39;00m\n\u001b[0;32m   4916\u001b[0m \u001b[38;5;124;03m    \"\"\"\u001b[39;00m\n\u001b[0;32m   4917\u001b[0m     \u001b[38;5;28;01mreturn\u001b[39;00m SeriesApply(\n\u001b[0;32m   4918\u001b[0m         \u001b[38;5;28mself\u001b[39m,\n\u001b[0;32m   4919\u001b[0m         func,\n\u001b[0;32m   4920\u001b[0m         convert_dtype\u001b[38;5;241m=\u001b[39mconvert_dtype,\n\u001b[0;32m   4921\u001b[0m         by_row\u001b[38;5;241m=\u001b[39mby_row,\n\u001b[0;32m   4922\u001b[0m         args\u001b[38;5;241m=\u001b[39margs,\n\u001b[0;32m   4923\u001b[0m         kwargs\u001b[38;5;241m=\u001b[39mkwargs,\n\u001b[1;32m-> 4924\u001b[0m     )\u001b[38;5;241m.\u001b[39mapply()\n",
      "File \u001b[1;32m~\\anaconda3\\Lib\\site-packages\\pandas\\core\\apply.py:1427\u001b[0m, in \u001b[0;36mSeriesApply.apply\u001b[1;34m(self)\u001b[0m\n\u001b[0;32m   1424\u001b[0m     \u001b[38;5;28;01mreturn\u001b[39;00m \u001b[38;5;28mself\u001b[39m\u001b[38;5;241m.\u001b[39mapply_compat()\n\u001b[0;32m   1426\u001b[0m \u001b[38;5;66;03m# self.func is Callable\u001b[39;00m\n\u001b[1;32m-> 1427\u001b[0m \u001b[38;5;28;01mreturn\u001b[39;00m \u001b[38;5;28mself\u001b[39m\u001b[38;5;241m.\u001b[39mapply_standard()\n",
      "File \u001b[1;32m~\\anaconda3\\Lib\\site-packages\\pandas\\core\\apply.py:1507\u001b[0m, in \u001b[0;36mSeriesApply.apply_standard\u001b[1;34m(self)\u001b[0m\n\u001b[0;32m   1501\u001b[0m \u001b[38;5;66;03m# row-wise access\u001b[39;00m\n\u001b[0;32m   1502\u001b[0m \u001b[38;5;66;03m# apply doesn't have a `na_action` keyword and for backward compat reasons\u001b[39;00m\n\u001b[0;32m   1503\u001b[0m \u001b[38;5;66;03m# we need to give `na_action=\"ignore\"` for categorical data.\u001b[39;00m\n\u001b[0;32m   1504\u001b[0m \u001b[38;5;66;03m# TODO: remove the `na_action=\"ignore\"` when that default has been changed in\u001b[39;00m\n\u001b[0;32m   1505\u001b[0m \u001b[38;5;66;03m#  Categorical (GH51645).\u001b[39;00m\n\u001b[0;32m   1506\u001b[0m action \u001b[38;5;241m=\u001b[39m \u001b[38;5;124m\"\u001b[39m\u001b[38;5;124mignore\u001b[39m\u001b[38;5;124m\"\u001b[39m \u001b[38;5;28;01mif\u001b[39;00m \u001b[38;5;28misinstance\u001b[39m(obj\u001b[38;5;241m.\u001b[39mdtype, CategoricalDtype) \u001b[38;5;28;01melse\u001b[39;00m \u001b[38;5;28;01mNone\u001b[39;00m\n\u001b[1;32m-> 1507\u001b[0m mapped \u001b[38;5;241m=\u001b[39m obj\u001b[38;5;241m.\u001b[39m_map_values(\n\u001b[0;32m   1508\u001b[0m     mapper\u001b[38;5;241m=\u001b[39mcurried, na_action\u001b[38;5;241m=\u001b[39maction, convert\u001b[38;5;241m=\u001b[39m\u001b[38;5;28mself\u001b[39m\u001b[38;5;241m.\u001b[39mconvert_dtype\n\u001b[0;32m   1509\u001b[0m )\n\u001b[0;32m   1511\u001b[0m \u001b[38;5;28;01mif\u001b[39;00m \u001b[38;5;28mlen\u001b[39m(mapped) \u001b[38;5;129;01mand\u001b[39;00m \u001b[38;5;28misinstance\u001b[39m(mapped[\u001b[38;5;241m0\u001b[39m], ABCSeries):\n\u001b[0;32m   1512\u001b[0m     \u001b[38;5;66;03m# GH#43986 Need to do list(mapped) in order to get treated as nested\u001b[39;00m\n\u001b[0;32m   1513\u001b[0m     \u001b[38;5;66;03m#  See also GH#25959 regarding EA support\u001b[39;00m\n\u001b[0;32m   1514\u001b[0m     \u001b[38;5;28;01mreturn\u001b[39;00m obj\u001b[38;5;241m.\u001b[39m_constructor_expanddim(\u001b[38;5;28mlist\u001b[39m(mapped), index\u001b[38;5;241m=\u001b[39mobj\u001b[38;5;241m.\u001b[39mindex)\n",
      "File \u001b[1;32m~\\anaconda3\\Lib\\site-packages\\pandas\\core\\base.py:921\u001b[0m, in \u001b[0;36mIndexOpsMixin._map_values\u001b[1;34m(self, mapper, na_action, convert)\u001b[0m\n\u001b[0;32m    918\u001b[0m \u001b[38;5;28;01mif\u001b[39;00m \u001b[38;5;28misinstance\u001b[39m(arr, ExtensionArray):\n\u001b[0;32m    919\u001b[0m     \u001b[38;5;28;01mreturn\u001b[39;00m arr\u001b[38;5;241m.\u001b[39mmap(mapper, na_action\u001b[38;5;241m=\u001b[39mna_action)\n\u001b[1;32m--> 921\u001b[0m \u001b[38;5;28;01mreturn\u001b[39;00m algorithms\u001b[38;5;241m.\u001b[39mmap_array(arr, mapper, na_action\u001b[38;5;241m=\u001b[39mna_action, convert\u001b[38;5;241m=\u001b[39mconvert)\n",
      "File \u001b[1;32m~\\anaconda3\\Lib\\site-packages\\pandas\\core\\algorithms.py:1743\u001b[0m, in \u001b[0;36mmap_array\u001b[1;34m(arr, mapper, na_action, convert)\u001b[0m\n\u001b[0;32m   1741\u001b[0m values \u001b[38;5;241m=\u001b[39m arr\u001b[38;5;241m.\u001b[39mastype(\u001b[38;5;28mobject\u001b[39m, copy\u001b[38;5;241m=\u001b[39m\u001b[38;5;28;01mFalse\u001b[39;00m)\n\u001b[0;32m   1742\u001b[0m \u001b[38;5;28;01mif\u001b[39;00m na_action \u001b[38;5;129;01mis\u001b[39;00m \u001b[38;5;28;01mNone\u001b[39;00m:\n\u001b[1;32m-> 1743\u001b[0m     \u001b[38;5;28;01mreturn\u001b[39;00m lib\u001b[38;5;241m.\u001b[39mmap_infer(values, mapper, convert\u001b[38;5;241m=\u001b[39mconvert)\n\u001b[0;32m   1744\u001b[0m \u001b[38;5;28;01melse\u001b[39;00m:\n\u001b[0;32m   1745\u001b[0m     \u001b[38;5;28;01mreturn\u001b[39;00m lib\u001b[38;5;241m.\u001b[39mmap_infer_mask(\n\u001b[0;32m   1746\u001b[0m         values, mapper, mask\u001b[38;5;241m=\u001b[39misna(values)\u001b[38;5;241m.\u001b[39mview(np\u001b[38;5;241m.\u001b[39muint8), convert\u001b[38;5;241m=\u001b[39mconvert\n\u001b[0;32m   1747\u001b[0m     )\n",
      "File \u001b[1;32mlib.pyx:2972\u001b[0m, in \u001b[0;36mpandas._libs.lib.map_infer\u001b[1;34m()\u001b[0m\n",
      "Cell \u001b[1;32mIn[103], line 1\u001b[0m, in \u001b[0;36m<lambda>\u001b[1;34m(x)\u001b[0m\n\u001b[1;32m----> 1\u001b[0m movies[\u001b[38;5;124m'\u001b[39m\u001b[38;5;124moverview\u001b[39m\u001b[38;5;124m'\u001b[39m] \u001b[38;5;241m=\u001b[39m movies[\u001b[38;5;124m'\u001b[39m\u001b[38;5;124moverview\u001b[39m\u001b[38;5;124m'\u001b[39m]\u001b[38;5;241m.\u001b[39mapply(\u001b[38;5;28;01mlambda\u001b[39;00m x:x\u001b[38;5;241m.\u001b[39msplit())\n",
      "\u001b[1;31mAttributeError\u001b[0m: 'list' object has no attribute 'split'"
     ]
    }
   ],
   "source": [
    "movies['overview'] = movies['overview'].apply(lambda x:x.split())"
   ]
  },
  {
   "cell_type": "code",
   "execution_count": 113,
   "id": "a71f8d3f-65b5-4279-b9a8-2b14d853ac1a",
   "metadata": {},
   "outputs": [
    {
     "data": {
      "text/html": [
       "<div>\n",
       "<style scoped>\n",
       "    .dataframe tbody tr th:only-of-type {\n",
       "        vertical-align: middle;\n",
       "    }\n",
       "\n",
       "    .dataframe tbody tr th {\n",
       "        vertical-align: top;\n",
       "    }\n",
       "\n",
       "    .dataframe thead th {\n",
       "        text-align: right;\n",
       "    }\n",
       "</style>\n",
       "<table border=\"1\" class=\"dataframe\">\n",
       "  <thead>\n",
       "    <tr style=\"text-align: right;\">\n",
       "      <th></th>\n",
       "      <th>id</th>\n",
       "      <th>title</th>\n",
       "      <th>overview</th>\n",
       "      <th>genres</th>\n",
       "      <th>keywords</th>\n",
       "      <th>cast</th>\n",
       "      <th>crew</th>\n",
       "      <th>tags</th>\n",
       "    </tr>\n",
       "  </thead>\n",
       "  <tbody>\n",
       "    <tr>\n",
       "      <th>0</th>\n",
       "      <td>19995</td>\n",
       "      <td>Avatar</td>\n",
       "      <td>[In, the, 22nd, century,, a, paraplegic, Marin...</td>\n",
       "      <td>[Action, Adventure, Fantasy, ScienceFiction]</td>\n",
       "      <td>[cultureclash, future, spacewar, spacecolony, ...</td>\n",
       "      <td>[SamWorthington, ZoeSaldana, SigourneyWeaver]</td>\n",
       "      <td>[JamesCameron]</td>\n",
       "      <td>[Action, Adventure, Fantasy, ScienceFiction, c...</td>\n",
       "    </tr>\n",
       "    <tr>\n",
       "      <th>1</th>\n",
       "      <td>285</td>\n",
       "      <td>Pirates of the Caribbean: At World's End</td>\n",
       "      <td>[Captain, Barbossa,, long, believed, to, be, d...</td>\n",
       "      <td>[Adventure, Fantasy, Action]</td>\n",
       "      <td>[ocean, drugabuse, exoticisland, eastindiatrad...</td>\n",
       "      <td>[JohnnyDepp, OrlandoBloom, KeiraKnightley]</td>\n",
       "      <td>[GoreVerbinski]</td>\n",
       "      <td>[Adventure, Fantasy, Action, ocean, drugabuse,...</td>\n",
       "    </tr>\n",
       "    <tr>\n",
       "      <th>2</th>\n",
       "      <td>206647</td>\n",
       "      <td>Spectre</td>\n",
       "      <td>[A, cryptic, message, from, Bond’s, past, send...</td>\n",
       "      <td>[Action, Adventure, Crime]</td>\n",
       "      <td>[spy, basedonnovel, secretagent, sequel, mi6, ...</td>\n",
       "      <td>[DanielCraig, ChristophWaltz, LéaSeydoux]</td>\n",
       "      <td>[SamMendes]</td>\n",
       "      <td>[Action, Adventure, Crime, spy, basedonnovel, ...</td>\n",
       "    </tr>\n",
       "    <tr>\n",
       "      <th>3</th>\n",
       "      <td>49026</td>\n",
       "      <td>The Dark Knight Rises</td>\n",
       "      <td>[Following, the, death, of, District, Attorney...</td>\n",
       "      <td>[Action, Crime, Drama, Thriller]</td>\n",
       "      <td>[dccomics, crimefighter, terrorist, secretiden...</td>\n",
       "      <td>[ChristianBale, MichaelCaine, GaryOldman]</td>\n",
       "      <td>[ChristopherNolan]</td>\n",
       "      <td>[Action, Crime, Drama, Thriller, dccomics, cri...</td>\n",
       "    </tr>\n",
       "    <tr>\n",
       "      <th>4</th>\n",
       "      <td>49529</td>\n",
       "      <td>John Carter</td>\n",
       "      <td>[John, Carter, is, a, war-weary,, former, mili...</td>\n",
       "      <td>[Action, Adventure, ScienceFiction]</td>\n",
       "      <td>[basedonnovel, mars, medallion, spacetravel, p...</td>\n",
       "      <td>[TaylorKitsch, LynnCollins, SamanthaMorton]</td>\n",
       "      <td>[AndrewStanton]</td>\n",
       "      <td>[Action, Adventure, ScienceFiction, basedonnov...</td>\n",
       "    </tr>\n",
       "  </tbody>\n",
       "</table>\n",
       "</div>"
      ],
      "text/plain": [
       "       id                                     title  \\\n",
       "0   19995                                    Avatar   \n",
       "1     285  Pirates of the Caribbean: At World's End   \n",
       "2  206647                                   Spectre   \n",
       "3   49026                     The Dark Knight Rises   \n",
       "4   49529                               John Carter   \n",
       "\n",
       "                                            overview  \\\n",
       "0  [In, the, 22nd, century,, a, paraplegic, Marin...   \n",
       "1  [Captain, Barbossa,, long, believed, to, be, d...   \n",
       "2  [A, cryptic, message, from, Bond’s, past, send...   \n",
       "3  [Following, the, death, of, District, Attorney...   \n",
       "4  [John, Carter, is, a, war-weary,, former, mili...   \n",
       "\n",
       "                                         genres  \\\n",
       "0  [Action, Adventure, Fantasy, ScienceFiction]   \n",
       "1                  [Adventure, Fantasy, Action]   \n",
       "2                    [Action, Adventure, Crime]   \n",
       "3              [Action, Crime, Drama, Thriller]   \n",
       "4           [Action, Adventure, ScienceFiction]   \n",
       "\n",
       "                                            keywords  \\\n",
       "0  [cultureclash, future, spacewar, spacecolony, ...   \n",
       "1  [ocean, drugabuse, exoticisland, eastindiatrad...   \n",
       "2  [spy, basedonnovel, secretagent, sequel, mi6, ...   \n",
       "3  [dccomics, crimefighter, terrorist, secretiden...   \n",
       "4  [basedonnovel, mars, medallion, spacetravel, p...   \n",
       "\n",
       "                                            cast                crew  \\\n",
       "0  [SamWorthington, ZoeSaldana, SigourneyWeaver]      [JamesCameron]   \n",
       "1     [JohnnyDepp, OrlandoBloom, KeiraKnightley]     [GoreVerbinski]   \n",
       "2      [DanielCraig, ChristophWaltz, LéaSeydoux]         [SamMendes]   \n",
       "3      [ChristianBale, MichaelCaine, GaryOldman]  [ChristopherNolan]   \n",
       "4    [TaylorKitsch, LynnCollins, SamanthaMorton]     [AndrewStanton]   \n",
       "\n",
       "                                                tags  \n",
       "0  [Action, Adventure, Fantasy, ScienceFiction, c...  \n",
       "1  [Adventure, Fantasy, Action, ocean, drugabuse,...  \n",
       "2  [Action, Adventure, Crime, spy, basedonnovel, ...  \n",
       "3  [Action, Crime, Drama, Thriller, dccomics, cri...  \n",
       "4  [Action, Adventure, ScienceFiction, basedonnov...  "
      ]
     },
     "execution_count": 113,
     "metadata": {},
     "output_type": "execute_result"
    }
   ],
   "source": [
    "movies.head()"
   ]
  },
  {
   "cell_type": "code",
   "execution_count": 115,
   "id": "0033b649-e99d-4b38-a968-81d0ad42051a",
   "metadata": {},
   "outputs": [],
   "source": [
    "movies['genres'] = movies['genres'].apply(lambda x:[i.replace(\" \",\"\") for i in x])\n",
    "movies['keywords'] = movies['keywords'].apply(lambda x:[i.replace(\" \",\"\") for i in x])\n",
    "movies['cast'] = movies['cast'].apply(lambda x:[i.replace(\" \",\"\") for i in x])\n",
    "movies['crew'] = movies['crew'].apply(lambda x:[i.replace(\" \",\"\") for i in x])\n",
    "movies['overview'] = movies['overview'].apply(lambda x:[i.replace(\" \",\"\") for i in x])"
   ]
  },
  {
   "cell_type": "code",
   "execution_count": 117,
   "id": "447975d6-b9e8-47e7-b4ee-53e86ff181cc",
   "metadata": {},
   "outputs": [
    {
     "data": {
      "text/html": [
       "<div>\n",
       "<style scoped>\n",
       "    .dataframe tbody tr th:only-of-type {\n",
       "        vertical-align: middle;\n",
       "    }\n",
       "\n",
       "    .dataframe tbody tr th {\n",
       "        vertical-align: top;\n",
       "    }\n",
       "\n",
       "    .dataframe thead th {\n",
       "        text-align: right;\n",
       "    }\n",
       "</style>\n",
       "<table border=\"1\" class=\"dataframe\">\n",
       "  <thead>\n",
       "    <tr style=\"text-align: right;\">\n",
       "      <th></th>\n",
       "      <th>id</th>\n",
       "      <th>title</th>\n",
       "      <th>overview</th>\n",
       "      <th>genres</th>\n",
       "      <th>keywords</th>\n",
       "      <th>cast</th>\n",
       "      <th>crew</th>\n",
       "      <th>tags</th>\n",
       "    </tr>\n",
       "  </thead>\n",
       "  <tbody>\n",
       "    <tr>\n",
       "      <th>0</th>\n",
       "      <td>19995</td>\n",
       "      <td>Avatar</td>\n",
       "      <td>[In, the, 22nd, century,, a, paraplegic, Marin...</td>\n",
       "      <td>[Action, Adventure, Fantasy, ScienceFiction]</td>\n",
       "      <td>[cultureclash, future, spacewar, spacecolony, ...</td>\n",
       "      <td>[SamWorthington, ZoeSaldana, SigourneyWeaver]</td>\n",
       "      <td>[JamesCameron]</td>\n",
       "      <td>[Action, Adventure, Fantasy, ScienceFiction, c...</td>\n",
       "    </tr>\n",
       "    <tr>\n",
       "      <th>1</th>\n",
       "      <td>285</td>\n",
       "      <td>Pirates of the Caribbean: At World's End</td>\n",
       "      <td>[Captain, Barbossa,, long, believed, to, be, d...</td>\n",
       "      <td>[Adventure, Fantasy, Action]</td>\n",
       "      <td>[ocean, drugabuse, exoticisland, eastindiatrad...</td>\n",
       "      <td>[JohnnyDepp, OrlandoBloom, KeiraKnightley]</td>\n",
       "      <td>[GoreVerbinski]</td>\n",
       "      <td>[Adventure, Fantasy, Action, ocean, drugabuse,...</td>\n",
       "    </tr>\n",
       "    <tr>\n",
       "      <th>2</th>\n",
       "      <td>206647</td>\n",
       "      <td>Spectre</td>\n",
       "      <td>[A, cryptic, message, from, Bond’s, past, send...</td>\n",
       "      <td>[Action, Adventure, Crime]</td>\n",
       "      <td>[spy, basedonnovel, secretagent, sequel, mi6, ...</td>\n",
       "      <td>[DanielCraig, ChristophWaltz, LéaSeydoux]</td>\n",
       "      <td>[SamMendes]</td>\n",
       "      <td>[Action, Adventure, Crime, spy, basedonnovel, ...</td>\n",
       "    </tr>\n",
       "    <tr>\n",
       "      <th>3</th>\n",
       "      <td>49026</td>\n",
       "      <td>The Dark Knight Rises</td>\n",
       "      <td>[Following, the, death, of, District, Attorney...</td>\n",
       "      <td>[Action, Crime, Drama, Thriller]</td>\n",
       "      <td>[dccomics, crimefighter, terrorist, secretiden...</td>\n",
       "      <td>[ChristianBale, MichaelCaine, GaryOldman]</td>\n",
       "      <td>[ChristopherNolan]</td>\n",
       "      <td>[Action, Crime, Drama, Thriller, dccomics, cri...</td>\n",
       "    </tr>\n",
       "    <tr>\n",
       "      <th>4</th>\n",
       "      <td>49529</td>\n",
       "      <td>John Carter</td>\n",
       "      <td>[John, Carter, is, a, war-weary,, former, mili...</td>\n",
       "      <td>[Action, Adventure, ScienceFiction]</td>\n",
       "      <td>[basedonnovel, mars, medallion, spacetravel, p...</td>\n",
       "      <td>[TaylorKitsch, LynnCollins, SamanthaMorton]</td>\n",
       "      <td>[AndrewStanton]</td>\n",
       "      <td>[Action, Adventure, ScienceFiction, basedonnov...</td>\n",
       "    </tr>\n",
       "  </tbody>\n",
       "</table>\n",
       "</div>"
      ],
      "text/plain": [
       "       id                                     title  \\\n",
       "0   19995                                    Avatar   \n",
       "1     285  Pirates of the Caribbean: At World's End   \n",
       "2  206647                                   Spectre   \n",
       "3   49026                     The Dark Knight Rises   \n",
       "4   49529                               John Carter   \n",
       "\n",
       "                                            overview  \\\n",
       "0  [In, the, 22nd, century,, a, paraplegic, Marin...   \n",
       "1  [Captain, Barbossa,, long, believed, to, be, d...   \n",
       "2  [A, cryptic, message, from, Bond’s, past, send...   \n",
       "3  [Following, the, death, of, District, Attorney...   \n",
       "4  [John, Carter, is, a, war-weary,, former, mili...   \n",
       "\n",
       "                                         genres  \\\n",
       "0  [Action, Adventure, Fantasy, ScienceFiction]   \n",
       "1                  [Adventure, Fantasy, Action]   \n",
       "2                    [Action, Adventure, Crime]   \n",
       "3              [Action, Crime, Drama, Thriller]   \n",
       "4           [Action, Adventure, ScienceFiction]   \n",
       "\n",
       "                                            keywords  \\\n",
       "0  [cultureclash, future, spacewar, spacecolony, ...   \n",
       "1  [ocean, drugabuse, exoticisland, eastindiatrad...   \n",
       "2  [spy, basedonnovel, secretagent, sequel, mi6, ...   \n",
       "3  [dccomics, crimefighter, terrorist, secretiden...   \n",
       "4  [basedonnovel, mars, medallion, spacetravel, p...   \n",
       "\n",
       "                                            cast                crew  \\\n",
       "0  [SamWorthington, ZoeSaldana, SigourneyWeaver]      [JamesCameron]   \n",
       "1     [JohnnyDepp, OrlandoBloom, KeiraKnightley]     [GoreVerbinski]   \n",
       "2      [DanielCraig, ChristophWaltz, LéaSeydoux]         [SamMendes]   \n",
       "3      [ChristianBale, MichaelCaine, GaryOldman]  [ChristopherNolan]   \n",
       "4    [TaylorKitsch, LynnCollins, SamanthaMorton]     [AndrewStanton]   \n",
       "\n",
       "                                                tags  \n",
       "0  [Action, Adventure, Fantasy, ScienceFiction, c...  \n",
       "1  [Adventure, Fantasy, Action, ocean, drugabuse,...  \n",
       "2  [Action, Adventure, Crime, spy, basedonnovel, ...  \n",
       "3  [Action, Crime, Drama, Thriller, dccomics, cri...  \n",
       "4  [Action, Adventure, ScienceFiction, basedonnov...  "
      ]
     },
     "execution_count": 117,
     "metadata": {},
     "output_type": "execute_result"
    }
   ],
   "source": [
    "movies.head()"
   ]
  },
  {
   "cell_type": "code",
   "execution_count": 119,
   "id": "263cc687-7f0f-42e3-a4a1-362c5092bcf7",
   "metadata": {},
   "outputs": [],
   "source": [
    "movies['tags'] = movies['genres']+movies['keywords']+movies['cast']+movies['crew']+movies['overview']"
   ]
  },
  {
   "cell_type": "code",
   "execution_count": 121,
   "id": "869f2eee-5adb-4f2b-bdb7-0f3479f0b5e8",
   "metadata": {},
   "outputs": [
    {
     "data": {
      "text/plain": [
       "['Action',\n",
       " 'Adventure',\n",
       " 'Fantasy',\n",
       " 'ScienceFiction',\n",
       " 'cultureclash',\n",
       " 'future',\n",
       " 'spacewar',\n",
       " 'spacecolony',\n",
       " 'society',\n",
       " 'spacetravel',\n",
       " 'futuristic',\n",
       " 'romance',\n",
       " 'space',\n",
       " 'alien',\n",
       " 'tribe',\n",
       " 'alienplanet',\n",
       " 'cgi',\n",
       " 'marine',\n",
       " 'soldier',\n",
       " 'battle',\n",
       " 'loveaffair',\n",
       " 'antiwar',\n",
       " 'powerrelations',\n",
       " 'mindandsoul',\n",
       " '3d',\n",
       " 'SamWorthington',\n",
       " 'ZoeSaldana',\n",
       " 'SigourneyWeaver',\n",
       " 'JamesCameron',\n",
       " 'In',\n",
       " 'the',\n",
       " '22nd',\n",
       " 'century,',\n",
       " 'a',\n",
       " 'paraplegic',\n",
       " 'Marine',\n",
       " 'is',\n",
       " 'dispatched',\n",
       " 'to',\n",
       " 'the',\n",
       " 'moon',\n",
       " 'Pandora',\n",
       " 'on',\n",
       " 'a',\n",
       " 'unique',\n",
       " 'mission,',\n",
       " 'but',\n",
       " 'becomes',\n",
       " 'torn',\n",
       " 'between',\n",
       " 'following',\n",
       " 'orders',\n",
       " 'and',\n",
       " 'protecting',\n",
       " 'an',\n",
       " 'alien',\n",
       " 'civilization.']"
      ]
     },
     "execution_count": 121,
     "metadata": {},
     "output_type": "execute_result"
    }
   ],
   "source": [
    "movies['tags'][0]"
   ]
  },
  {
   "cell_type": "code",
   "execution_count": 123,
   "id": "aead54be-8583-4e11-93dc-27c381d65952",
   "metadata": {},
   "outputs": [
    {
     "data": {
      "text/html": [
       "<div>\n",
       "<style scoped>\n",
       "    .dataframe tbody tr th:only-of-type {\n",
       "        vertical-align: middle;\n",
       "    }\n",
       "\n",
       "    .dataframe tbody tr th {\n",
       "        vertical-align: top;\n",
       "    }\n",
       "\n",
       "    .dataframe thead th {\n",
       "        text-align: right;\n",
       "    }\n",
       "</style>\n",
       "<table border=\"1\" class=\"dataframe\">\n",
       "  <thead>\n",
       "    <tr style=\"text-align: right;\">\n",
       "      <th></th>\n",
       "      <th>id</th>\n",
       "      <th>title</th>\n",
       "      <th>overview</th>\n",
       "      <th>genres</th>\n",
       "      <th>keywords</th>\n",
       "      <th>cast</th>\n",
       "      <th>crew</th>\n",
       "      <th>tags</th>\n",
       "    </tr>\n",
       "  </thead>\n",
       "  <tbody>\n",
       "    <tr>\n",
       "      <th>0</th>\n",
       "      <td>19995</td>\n",
       "      <td>Avatar</td>\n",
       "      <td>[In, the, 22nd, century,, a, paraplegic, Marin...</td>\n",
       "      <td>[Action, Adventure, Fantasy, ScienceFiction]</td>\n",
       "      <td>[cultureclash, future, spacewar, spacecolony, ...</td>\n",
       "      <td>[SamWorthington, ZoeSaldana, SigourneyWeaver]</td>\n",
       "      <td>[JamesCameron]</td>\n",
       "      <td>[Action, Adventure, Fantasy, ScienceFiction, c...</td>\n",
       "    </tr>\n",
       "    <tr>\n",
       "      <th>1</th>\n",
       "      <td>285</td>\n",
       "      <td>Pirates of the Caribbean: At World's End</td>\n",
       "      <td>[Captain, Barbossa,, long, believed, to, be, d...</td>\n",
       "      <td>[Adventure, Fantasy, Action]</td>\n",
       "      <td>[ocean, drugabuse, exoticisland, eastindiatrad...</td>\n",
       "      <td>[JohnnyDepp, OrlandoBloom, KeiraKnightley]</td>\n",
       "      <td>[GoreVerbinski]</td>\n",
       "      <td>[Adventure, Fantasy, Action, ocean, drugabuse,...</td>\n",
       "    </tr>\n",
       "    <tr>\n",
       "      <th>2</th>\n",
       "      <td>206647</td>\n",
       "      <td>Spectre</td>\n",
       "      <td>[A, cryptic, message, from, Bond’s, past, send...</td>\n",
       "      <td>[Action, Adventure, Crime]</td>\n",
       "      <td>[spy, basedonnovel, secretagent, sequel, mi6, ...</td>\n",
       "      <td>[DanielCraig, ChristophWaltz, LéaSeydoux]</td>\n",
       "      <td>[SamMendes]</td>\n",
       "      <td>[Action, Adventure, Crime, spy, basedonnovel, ...</td>\n",
       "    </tr>\n",
       "    <tr>\n",
       "      <th>3</th>\n",
       "      <td>49026</td>\n",
       "      <td>The Dark Knight Rises</td>\n",
       "      <td>[Following, the, death, of, District, Attorney...</td>\n",
       "      <td>[Action, Crime, Drama, Thriller]</td>\n",
       "      <td>[dccomics, crimefighter, terrorist, secretiden...</td>\n",
       "      <td>[ChristianBale, MichaelCaine, GaryOldman]</td>\n",
       "      <td>[ChristopherNolan]</td>\n",
       "      <td>[Action, Crime, Drama, Thriller, dccomics, cri...</td>\n",
       "    </tr>\n",
       "    <tr>\n",
       "      <th>4</th>\n",
       "      <td>49529</td>\n",
       "      <td>John Carter</td>\n",
       "      <td>[John, Carter, is, a, war-weary,, former, mili...</td>\n",
       "      <td>[Action, Adventure, ScienceFiction]</td>\n",
       "      <td>[basedonnovel, mars, medallion, spacetravel, p...</td>\n",
       "      <td>[TaylorKitsch, LynnCollins, SamanthaMorton]</td>\n",
       "      <td>[AndrewStanton]</td>\n",
       "      <td>[Action, Adventure, ScienceFiction, basedonnov...</td>\n",
       "    </tr>\n",
       "  </tbody>\n",
       "</table>\n",
       "</div>"
      ],
      "text/plain": [
       "       id                                     title  \\\n",
       "0   19995                                    Avatar   \n",
       "1     285  Pirates of the Caribbean: At World's End   \n",
       "2  206647                                   Spectre   \n",
       "3   49026                     The Dark Knight Rises   \n",
       "4   49529                               John Carter   \n",
       "\n",
       "                                            overview  \\\n",
       "0  [In, the, 22nd, century,, a, paraplegic, Marin...   \n",
       "1  [Captain, Barbossa,, long, believed, to, be, d...   \n",
       "2  [A, cryptic, message, from, Bond’s, past, send...   \n",
       "3  [Following, the, death, of, District, Attorney...   \n",
       "4  [John, Carter, is, a, war-weary,, former, mili...   \n",
       "\n",
       "                                         genres  \\\n",
       "0  [Action, Adventure, Fantasy, ScienceFiction]   \n",
       "1                  [Adventure, Fantasy, Action]   \n",
       "2                    [Action, Adventure, Crime]   \n",
       "3              [Action, Crime, Drama, Thriller]   \n",
       "4           [Action, Adventure, ScienceFiction]   \n",
       "\n",
       "                                            keywords  \\\n",
       "0  [cultureclash, future, spacewar, spacecolony, ...   \n",
       "1  [ocean, drugabuse, exoticisland, eastindiatrad...   \n",
       "2  [spy, basedonnovel, secretagent, sequel, mi6, ...   \n",
       "3  [dccomics, crimefighter, terrorist, secretiden...   \n",
       "4  [basedonnovel, mars, medallion, spacetravel, p...   \n",
       "\n",
       "                                            cast                crew  \\\n",
       "0  [SamWorthington, ZoeSaldana, SigourneyWeaver]      [JamesCameron]   \n",
       "1     [JohnnyDepp, OrlandoBloom, KeiraKnightley]     [GoreVerbinski]   \n",
       "2      [DanielCraig, ChristophWaltz, LéaSeydoux]         [SamMendes]   \n",
       "3      [ChristianBale, MichaelCaine, GaryOldman]  [ChristopherNolan]   \n",
       "4    [TaylorKitsch, LynnCollins, SamanthaMorton]     [AndrewStanton]   \n",
       "\n",
       "                                                tags  \n",
       "0  [Action, Adventure, Fantasy, ScienceFiction, c...  \n",
       "1  [Adventure, Fantasy, Action, ocean, drugabuse,...  \n",
       "2  [Action, Adventure, Crime, spy, basedonnovel, ...  \n",
       "3  [Action, Crime, Drama, Thriller, dccomics, cri...  \n",
       "4  [Action, Adventure, ScienceFiction, basedonnov...  "
      ]
     },
     "execution_count": 123,
     "metadata": {},
     "output_type": "execute_result"
    }
   ],
   "source": [
    "movies.head()"
   ]
  },
  {
   "cell_type": "code",
   "execution_count": 125,
   "id": "9d36a292-ab36-4083-9d06-fb6e79ab9e20",
   "metadata": {},
   "outputs": [],
   "source": [
    "new_df = movies[['id','title','tags']]"
   ]
  },
  {
   "cell_type": "code",
   "execution_count": 127,
   "id": "7285b372-a40c-4b4c-94c3-51755622a3dc",
   "metadata": {},
   "outputs": [
    {
     "data": {
      "text/html": [
       "<div>\n",
       "<style scoped>\n",
       "    .dataframe tbody tr th:only-of-type {\n",
       "        vertical-align: middle;\n",
       "    }\n",
       "\n",
       "    .dataframe tbody tr th {\n",
       "        vertical-align: top;\n",
       "    }\n",
       "\n",
       "    .dataframe thead th {\n",
       "        text-align: right;\n",
       "    }\n",
       "</style>\n",
       "<table border=\"1\" class=\"dataframe\">\n",
       "  <thead>\n",
       "    <tr style=\"text-align: right;\">\n",
       "      <th></th>\n",
       "      <th>id</th>\n",
       "      <th>title</th>\n",
       "      <th>tags</th>\n",
       "    </tr>\n",
       "  </thead>\n",
       "  <tbody>\n",
       "    <tr>\n",
       "      <th>0</th>\n",
       "      <td>19995</td>\n",
       "      <td>Avatar</td>\n",
       "      <td>[Action, Adventure, Fantasy, ScienceFiction, c...</td>\n",
       "    </tr>\n",
       "    <tr>\n",
       "      <th>1</th>\n",
       "      <td>285</td>\n",
       "      <td>Pirates of the Caribbean: At World's End</td>\n",
       "      <td>[Adventure, Fantasy, Action, ocean, drugabuse,...</td>\n",
       "    </tr>\n",
       "    <tr>\n",
       "      <th>2</th>\n",
       "      <td>206647</td>\n",
       "      <td>Spectre</td>\n",
       "      <td>[Action, Adventure, Crime, spy, basedonnovel, ...</td>\n",
       "    </tr>\n",
       "    <tr>\n",
       "      <th>3</th>\n",
       "      <td>49026</td>\n",
       "      <td>The Dark Knight Rises</td>\n",
       "      <td>[Action, Crime, Drama, Thriller, dccomics, cri...</td>\n",
       "    </tr>\n",
       "    <tr>\n",
       "      <th>4</th>\n",
       "      <td>49529</td>\n",
       "      <td>John Carter</td>\n",
       "      <td>[Action, Adventure, ScienceFiction, basedonnov...</td>\n",
       "    </tr>\n",
       "    <tr>\n",
       "      <th>...</th>\n",
       "      <td>...</td>\n",
       "      <td>...</td>\n",
       "      <td>...</td>\n",
       "    </tr>\n",
       "    <tr>\n",
       "      <th>4804</th>\n",
       "      <td>9367</td>\n",
       "      <td>El Mariachi</td>\n",
       "      <td>[Action, Crime, Thriller, unitedstates–mexicob...</td>\n",
       "    </tr>\n",
       "    <tr>\n",
       "      <th>4805</th>\n",
       "      <td>72766</td>\n",
       "      <td>Newlyweds</td>\n",
       "      <td>[Comedy, Romance, EdwardBurns, KerryBishé, Mar...</td>\n",
       "    </tr>\n",
       "    <tr>\n",
       "      <th>4806</th>\n",
       "      <td>231617</td>\n",
       "      <td>Signed, Sealed, Delivered</td>\n",
       "      <td>[Comedy, Drama, Romance, TVMovie, date, loveat...</td>\n",
       "    </tr>\n",
       "    <tr>\n",
       "      <th>4807</th>\n",
       "      <td>126186</td>\n",
       "      <td>Shanghai Calling</td>\n",
       "      <td>[DanielHenney, ElizaCoupe, BillPaxton, DanielH...</td>\n",
       "    </tr>\n",
       "    <tr>\n",
       "      <th>4808</th>\n",
       "      <td>25975</td>\n",
       "      <td>My Date with Drew</td>\n",
       "      <td>[Documentary, obsession, camcorder, crush, dre...</td>\n",
       "    </tr>\n",
       "  </tbody>\n",
       "</table>\n",
       "<p>4806 rows × 3 columns</p>\n",
       "</div>"
      ],
      "text/plain": [
       "          id                                     title  \\\n",
       "0      19995                                    Avatar   \n",
       "1        285  Pirates of the Caribbean: At World's End   \n",
       "2     206647                                   Spectre   \n",
       "3      49026                     The Dark Knight Rises   \n",
       "4      49529                               John Carter   \n",
       "...      ...                                       ...   \n",
       "4804    9367                               El Mariachi   \n",
       "4805   72766                                 Newlyweds   \n",
       "4806  231617                 Signed, Sealed, Delivered   \n",
       "4807  126186                          Shanghai Calling   \n",
       "4808   25975                         My Date with Drew   \n",
       "\n",
       "                                                   tags  \n",
       "0     [Action, Adventure, Fantasy, ScienceFiction, c...  \n",
       "1     [Adventure, Fantasy, Action, ocean, drugabuse,...  \n",
       "2     [Action, Adventure, Crime, spy, basedonnovel, ...  \n",
       "3     [Action, Crime, Drama, Thriller, dccomics, cri...  \n",
       "4     [Action, Adventure, ScienceFiction, basedonnov...  \n",
       "...                                                 ...  \n",
       "4804  [Action, Crime, Thriller, unitedstates–mexicob...  \n",
       "4805  [Comedy, Romance, EdwardBurns, KerryBishé, Mar...  \n",
       "4806  [Comedy, Drama, Romance, TVMovie, date, loveat...  \n",
       "4807  [DanielHenney, ElizaCoupe, BillPaxton, DanielH...  \n",
       "4808  [Documentary, obsession, camcorder, crush, dre...  \n",
       "\n",
       "[4806 rows x 3 columns]"
      ]
     },
     "execution_count": 127,
     "metadata": {},
     "output_type": "execute_result"
    }
   ],
   "source": [
    "new_df"
   ]
  },
  {
   "cell_type": "code",
   "execution_count": 129,
   "id": "2b5dd870-7050-4c75-9766-482551f3a70d",
   "metadata": {},
   "outputs": [
    {
     "name": "stderr",
     "output_type": "stream",
     "text": [
      "C:\\Users\\Nayan\\AppData\\Local\\Temp\\ipykernel_14568\\3089450492.py:1: SettingWithCopyWarning: \n",
      "A value is trying to be set on a copy of a slice from a DataFrame.\n",
      "Try using .loc[row_indexer,col_indexer] = value instead\n",
      "\n",
      "See the caveats in the documentation: https://pandas.pydata.org/pandas-docs/stable/user_guide/indexing.html#returning-a-view-versus-a-copy\n",
      "  new_df['tags'] = new_df['tags'].apply(lambda x:\" \".join(x))\n"
     ]
    }
   ],
   "source": [
    "new_df['tags'] = new_df['tags'].apply(lambda x:\" \".join(x))"
   ]
  },
  {
   "cell_type": "code",
   "execution_count": 131,
   "id": "4cbe0eb8-b884-4bfe-80ad-7dea174be02d",
   "metadata": {},
   "outputs": [
    {
     "data": {
      "text/html": [
       "<div>\n",
       "<style scoped>\n",
       "    .dataframe tbody tr th:only-of-type {\n",
       "        vertical-align: middle;\n",
       "    }\n",
       "\n",
       "    .dataframe tbody tr th {\n",
       "        vertical-align: top;\n",
       "    }\n",
       "\n",
       "    .dataframe thead th {\n",
       "        text-align: right;\n",
       "    }\n",
       "</style>\n",
       "<table border=\"1\" class=\"dataframe\">\n",
       "  <thead>\n",
       "    <tr style=\"text-align: right;\">\n",
       "      <th></th>\n",
       "      <th>id</th>\n",
       "      <th>title</th>\n",
       "      <th>tags</th>\n",
       "    </tr>\n",
       "  </thead>\n",
       "  <tbody>\n",
       "    <tr>\n",
       "      <th>0</th>\n",
       "      <td>19995</td>\n",
       "      <td>Avatar</td>\n",
       "      <td>Action Adventure Fantasy ScienceFiction cultur...</td>\n",
       "    </tr>\n",
       "    <tr>\n",
       "      <th>1</th>\n",
       "      <td>285</td>\n",
       "      <td>Pirates of the Caribbean: At World's End</td>\n",
       "      <td>Adventure Fantasy Action ocean drugabuse exoti...</td>\n",
       "    </tr>\n",
       "    <tr>\n",
       "      <th>2</th>\n",
       "      <td>206647</td>\n",
       "      <td>Spectre</td>\n",
       "      <td>Action Adventure Crime spy basedonnovel secret...</td>\n",
       "    </tr>\n",
       "    <tr>\n",
       "      <th>3</th>\n",
       "      <td>49026</td>\n",
       "      <td>The Dark Knight Rises</td>\n",
       "      <td>Action Crime Drama Thriller dccomics crimefigh...</td>\n",
       "    </tr>\n",
       "    <tr>\n",
       "      <th>4</th>\n",
       "      <td>49529</td>\n",
       "      <td>John Carter</td>\n",
       "      <td>Action Adventure ScienceFiction basedonnovel m...</td>\n",
       "    </tr>\n",
       "  </tbody>\n",
       "</table>\n",
       "</div>"
      ],
      "text/plain": [
       "       id                                     title  \\\n",
       "0   19995                                    Avatar   \n",
       "1     285  Pirates of the Caribbean: At World's End   \n",
       "2  206647                                   Spectre   \n",
       "3   49026                     The Dark Knight Rises   \n",
       "4   49529                               John Carter   \n",
       "\n",
       "                                                tags  \n",
       "0  Action Adventure Fantasy ScienceFiction cultur...  \n",
       "1  Adventure Fantasy Action ocean drugabuse exoti...  \n",
       "2  Action Adventure Crime spy basedonnovel secret...  \n",
       "3  Action Crime Drama Thriller dccomics crimefigh...  \n",
       "4  Action Adventure ScienceFiction basedonnovel m...  "
      ]
     },
     "execution_count": 131,
     "metadata": {},
     "output_type": "execute_result"
    }
   ],
   "source": [
    "new_df.head()"
   ]
  },
  {
   "cell_type": "code",
   "execution_count": 133,
   "id": "33efdcdf-875e-4673-a4bd-35c654f7f4bc",
   "metadata": {},
   "outputs": [
    {
     "data": {
      "text/plain": [
       "0       action adventure fantasy sciencefiction cultur...\n",
       "1       adventure fantasy action ocean drugabuse exoti...\n",
       "2       action adventure crime spy basedonnovel secret...\n",
       "3       action crime drama thriller dccomics crimefigh...\n",
       "4       action adventure sciencefiction basedonnovel m...\n",
       "                              ...                        \n",
       "4804    action crime thriller unitedstates–mexicobarri...\n",
       "4805    comedy romance edwardburns kerrybishé marshadi...\n",
       "4806    comedy drama romance tvmovie date loveatfirsts...\n",
       "4807    danielhenney elizacoupe billpaxton danielhsia ...\n",
       "4808    documentary obsession camcorder crush dreamgir...\n",
       "Name: tags, Length: 4806, dtype: object"
      ]
     },
     "execution_count": 133,
     "metadata": {},
     "output_type": "execute_result"
    }
   ],
   "source": [
    "new_df['tags'].apply(lambda x:x.lower())"
   ]
  },
  {
   "cell_type": "code",
   "execution_count": 135,
   "id": "a24cd4ca-24e3-4c14-a09a-c46795769062",
   "metadata": {},
   "outputs": [
    {
     "data": {
      "text/plain": [
       "'Action Adventure Fantasy ScienceFiction cultureclash future spacewar spacecolony society spacetravel futuristic romance space alien tribe alienplanet cgi marine soldier battle loveaffair antiwar powerrelations mindandsoul 3d SamWorthington ZoeSaldana SigourneyWeaver JamesCameron In the 22nd century, a paraplegic Marine is dispatched to the moon Pandora on a unique mission, but becomes torn between following orders and protecting an alien civilization.'"
      ]
     },
     "execution_count": 135,
     "metadata": {},
     "output_type": "execute_result"
    }
   ],
   "source": [
    "new_df['tags'][0]"
   ]
  },
  {
   "cell_type": "code",
   "execution_count": 137,
   "id": "2d5c1234-c101-4517-b27c-7b79f5b5d0fe",
   "metadata": {},
   "outputs": [],
   "source": [
    "from sklearn.feature_extraction.text import CountVectorizer\n",
    "\n",
    "cv = CountVectorizer(max_features=5000, stop_words='english')"
   ]
  },
  {
   "cell_type": "code",
   "execution_count": 138,
   "id": "3c9099fc-1b8a-41e4-aa6a-1c377fb322be",
   "metadata": {},
   "outputs": [],
   "source": [
    "vectors = cv.fit_transform(new_df['tags']).toarray()"
   ]
  },
  {
   "cell_type": "code",
   "execution_count": 139,
   "id": "581d4a51-d505-47c4-a4aa-11984b6bd182",
   "metadata": {},
   "outputs": [
    {
     "data": {
      "text/plain": [
       "array([[0, 0, 0, ..., 0, 0, 0],\n",
       "       [0, 0, 0, ..., 0, 0, 0],\n",
       "       [0, 0, 0, ..., 0, 0, 0],\n",
       "       ...,\n",
       "       [0, 0, 0, ..., 0, 0, 0],\n",
       "       [0, 0, 0, ..., 0, 0, 0],\n",
       "       [0, 0, 0, ..., 0, 0, 0]], dtype=int64)"
      ]
     },
     "execution_count": 139,
     "metadata": {},
     "output_type": "execute_result"
    }
   ],
   "source": [
    "vectors"
   ]
  },
  {
   "cell_type": "code",
   "execution_count": null,
   "id": "dbbb5a49-cbd4-4a6a-9313-c2be885786e7",
   "metadata": {},
   "outputs": [],
   "source": []
  },
  {
   "cell_type": "code",
   "execution_count": 141,
   "id": "f3a13008-8474-48b9-a335-b24d98300ee3",
   "metadata": {},
   "outputs": [
    {
     "data": {
      "text/plain": [
       "array(['000', '007', '10', ..., 'zone', 'zoo', 'zooeydeschanel'],\n",
       "      dtype=object)"
      ]
     },
     "execution_count": 141,
     "metadata": {},
     "output_type": "execute_result"
    }
   ],
   "source": [
    "cv.get_feature_names_out()\n"
   ]
  },
  {
   "cell_type": "code",
   "execution_count": 143,
   "id": "8339bcaa-53ce-41aa-9465-8bbf09c646cd",
   "metadata": {},
   "outputs": [],
   "source": [
    "import nltk"
   ]
  },
  {
   "cell_type": "code",
   "execution_count": 148,
   "id": "1fdbcbfb-b084-4f04-bfbb-4054d3eea3b3",
   "metadata": {},
   "outputs": [],
   "source": [
    "#STEM use for the remove the extra words like \"driving\" the give only \"drive\"\n",
    "from nltk.stem.porter import PorterStemmer\n",
    "ps = PorterStemmer()"
   ]
  },
  {
   "cell_type": "code",
   "execution_count": 150,
   "id": "ce463170-165a-40e7-ad7c-96562ce4a421",
   "metadata": {},
   "outputs": [],
   "source": [
    "def stem(text):\n",
    "    y = []\n",
    "\n",
    "    for i in text.split():\n",
    "        y.append(ps.stem(i))\n",
    "\n",
    "    #this tsep to convert list into string \n",
    "    return \" \".join(y)"
   ]
  },
  {
   "cell_type": "code",
   "execution_count": 154,
   "id": "f5b9783d-c4b9-4660-8682-27a34d3f2f6a",
   "metadata": {},
   "outputs": [
    {
     "data": {
      "text/plain": [
       "'Action Adventure Fantasy ScienceFiction cultureclash future spacewar spacecolony society spacetravel futuristic romance space alien tribe alienplanet cgi marine soldier battle loveaffair antiwar powerrelations mindandsoul 3d SamWorthington ZoeSaldana SigourneyWeaver JamesCameron In the 22nd century, a paraplegic Marine is dispatched to the moon Pandora on a unique mission, but becomes torn between following orders and protecting an alien civilization.'"
      ]
     },
     "execution_count": 154,
     "metadata": {},
     "output_type": "execute_result"
    }
   ],
   "source": [
    "new_df['tags'][0]"
   ]
  },
  {
   "cell_type": "code",
   "execution_count": 152,
   "id": "76df3fa7-51a8-44c6-be98-626c87d3ebdc",
   "metadata": {},
   "outputs": [
    {
     "data": {
      "text/plain": [
       "'action adventur fantasi sciencefict cultureclash futur spacewar spacecoloni societi spacetravel futurist romanc space alien tribe alienplanet cgi marin soldier battl loveaffair antiwar powerrel mindandsoul 3d samworthington zoesaldana sigourneyweav jamescameron in the 22nd century, a parapleg marin is dispatch to the moon pandora on a uniqu mission, but becom torn between follow order and protect an alien civilization.'"
      ]
     },
     "execution_count": 152,
     "metadata": {},
     "output_type": "execute_result"
    }
   ],
   "source": [
    "stem('Action Adventure Fantasy ScienceFiction cultureclash future spacewar spacecolony society spacetravel futuristic romance space alien tribe alienplanet cgi marine soldier battle loveaffair antiwar powerrelations mindandsoul 3d SamWorthington ZoeSaldana SigourneyWeaver JamesCameron In the 22nd century, a paraplegic Marine is dispatched to the moon Pandora on a unique mission, but becomes torn between following orders and protecting an alien civilization.')"
   ]
  },
  {
   "cell_type": "code",
   "execution_count": 158,
   "id": "444c7d27-de2c-4fa0-9ac6-5387395f4d71",
   "metadata": {},
   "outputs": [
    {
     "name": "stderr",
     "output_type": "stream",
     "text": [
      "C:\\Users\\Nayan\\AppData\\Local\\Temp\\ipykernel_14568\\3213734980.py:1: SettingWithCopyWarning: \n",
      "A value is trying to be set on a copy of a slice from a DataFrame.\n",
      "Try using .loc[row_indexer,col_indexer] = value instead\n",
      "\n",
      "See the caveats in the documentation: https://pandas.pydata.org/pandas-docs/stable/user_guide/indexing.html#returning-a-view-versus-a-copy\n",
      "  new_df['tags'] = new_df['tags'].apply(stem)\n"
     ]
    }
   ],
   "source": [
    "new_df['tags'] = new_df['tags'].apply(stem)"
   ]
  },
  {
   "cell_type": "code",
   "execution_count": 159,
   "id": "77ebc803-8063-4755-a110-b64541883019",
   "metadata": {},
   "outputs": [
    {
     "data": {
      "text/plain": [
       "0       action adventur fantasi sciencefict culturecla...\n",
       "1       adventur fantasi action ocean drugabus exotici...\n",
       "2       action adventur crime spi basedonnovel secreta...\n",
       "3       action crime drama thriller dccomic crimefight...\n",
       "4       action adventur sciencefict basedonnovel mar m...\n",
       "                              ...                        \n",
       "4804    action crime thriller unitedstates–mexicobarri...\n",
       "4805    comedi romanc edwardburn kerrybishé marshadiet...\n",
       "4806    comedi drama romanc tvmovi date loveatfirstsig...\n",
       "4807    danielhenney elizacoup billpaxton danielhsia w...\n",
       "4808    documentari obsess camcord crush dreamgirl dre...\n",
       "Name: tags, Length: 4806, dtype: object"
      ]
     },
     "execution_count": 159,
     "metadata": {},
     "output_type": "execute_result"
    }
   ],
   "source": [
    "new_df['tags']"
   ]
  },
  {
   "cell_type": "code",
   "execution_count": 162,
   "id": "db8e20ff-919b-4d8b-8b33-710fdb82d346",
   "metadata": {},
   "outputs": [],
   "source": [
    "from sklearn.feature_extraction.text import CountVectorizer\n",
    "\n",
    "cv = CountVectorizer(max_features=5000, stop_words='english')"
   ]
  },
  {
   "cell_type": "code",
   "execution_count": 164,
   "id": "1ff66ccc-9acf-4e70-ba52-ec448a0e32a3",
   "metadata": {},
   "outputs": [],
   "source": [
    "vectors = cv.fit_transform(new_df['tags']).toarray()"
   ]
  },
  {
   "cell_type": "code",
   "execution_count": 166,
   "id": "0de5f290-0bc3-4165-9427-a17715a89ee3",
   "metadata": {},
   "outputs": [
    {
     "data": {
      "text/plain": [
       "array([[0, 0, 0, ..., 0, 0, 0],\n",
       "       [0, 0, 0, ..., 0, 0, 0],\n",
       "       [0, 0, 0, ..., 0, 0, 0],\n",
       "       ...,\n",
       "       [0, 0, 0, ..., 0, 0, 0],\n",
       "       [0, 0, 0, ..., 0, 0, 0],\n",
       "       [0, 0, 0, ..., 0, 0, 0]], dtype=int64)"
      ]
     },
     "execution_count": 166,
     "metadata": {},
     "output_type": "execute_result"
    }
   ],
   "source": []
  },
  {
   "cell_type": "code",
   "execution_count": 168,
   "id": "b9bd39f3-c2f0-45ca-8c40-93ac745aff95",
   "metadata": {},
   "outputs": [
    {
     "data": {
      "text/plain": [
       "array([0, 0, 0, ..., 0, 0, 0], dtype=int64)"
      ]
     },
     "execution_count": 168,
     "metadata": {},
     "output_type": "execute_result"
    }
   ],
   "source": [
    "vectors[0]"
   ]
  },
  {
   "cell_type": "code",
   "execution_count": 178,
   "id": "66a945c8-5fd4-432f-a78f-491c04a415be",
   "metadata": {},
   "outputs": [
    {
     "data": {
      "text/plain": [
       "array(['000', '007', '10', ..., 'zone', 'zoo', 'zooeydeschanel'],\n",
       "      dtype=object)"
      ]
     },
     "execution_count": 178,
     "metadata": {},
     "output_type": "execute_result"
    }
   ],
   "source": [
    "cv.get_feature_names_out()"
   ]
  },
  {
   "cell_type": "code",
   "execution_count": null,
   "id": "c4bbb69f-d9df-443d-8d1d-c4ec594483dd",
   "metadata": {},
   "outputs": [],
   "source": [
    "# count the distance \n",
    "\n",
    "\n",
    "# Euclidean Distance\n",
    "\n",
    "# -->Euclidean Distance is defined as the distance between two points in Euclidean space."
   ]
  },
  {
   "cell_type": "raw",
   "id": "98d84857-40c7-4766-918e-9d31f5edf267",
   "metadata": {},
   "source": [
    "# if you are in deal with high dimwntion to use Cosine Similarity\n",
    "\n",
    "# --> this use for rhe mesure the semilarity between two non-zero vectore by calculate the cosine of the angle between them.\n",
    "\n",
    "# θ(theta) was low make similarity are more the simaler movies\n"
   ]
  },
  {
   "cell_type": "markdown",
   "id": "1fbc839a-5d26-4e02-8c92-6929ad0ac46e",
   "metadata": {},
   "source": [
    "# Cosine distance"
   ]
  },
  {
   "cell_type": "code",
   "execution_count": 185,
   "id": "c0101cbe-4d01-4800-bfb9-7d088bb23c54",
   "metadata": {},
   "outputs": [],
   "source": [
    "from sklearn.metrics.pairwise import cosine_similarity "
   ]
  },
  {
   "cell_type": "code",
   "execution_count": 191,
   "id": "790700f0-099b-4344-a1d4-df882424d525",
   "metadata": {},
   "outputs": [],
   "source": [
    "similarity = cosine_similarity(vectors)"
   ]
  },
  {
   "cell_type": "code",
   "execution_count": 199,
   "id": "606b2c59-08bc-4669-b533-3ee4a9c60ced",
   "metadata": {},
   "outputs": [
    {
     "data": {
      "text/plain": [
       "array([0.0860309 , 0.06063391, 1.        , ..., 0.02451452, 0.        ,\n",
       "       0.        ])"
      ]
     },
     "execution_count": 199,
     "metadata": {},
     "output_type": "execute_result"
    }
   ],
   "source": [
    "similarity[2]"
   ]
  },
  {
   "cell_type": "code",
   "execution_count": null,
   "id": "56cc040b-ca9f-4e7d-a7d8-2bb90c684ef4",
   "metadata": {},
   "outputs": [],
   "source": [
    "def revommend(movie):\n",
    "    movie_index = new_df[new_df['title'] == movie].index[0]\n",
    "\n",
    "    distance = similarity[movie_index]\n",
    "    return "
   ]
  },
  {
   "cell_type": "code",
   "execution_count": 273,
   "id": "a18214c0-67bb-453c-ad49-4a96d6207631",
   "metadata": {},
   "outputs": [
    {
     "data": {
      "text/plain": [
       "id                                                    9675\n",
       "title                                             Sideways\n",
       "tags     comedi drama romanc california golf oscaraward...\n",
       "Name: 2409, dtype: object"
      ]
     },
     "execution_count": 273,
     "metadata": {},
     "output_type": "execute_result"
    }
   ],
   "source": [
    "new_df.iloc[2409]"
   ]
  },
  {
   "cell_type": "code",
   "execution_count": 252,
   "id": "46a31676-8186-46fe-9aba-15db99b028e3",
   "metadata": {},
   "outputs": [
    {
     "data": {
      "text/plain": [
       "4"
      ]
     },
     "execution_count": 252,
     "metadata": {},
     "output_type": "execute_result"
    }
   ],
   "source": [
    "new_df[new_df['title'] == 'John Carter'].index[0]"
   ]
  },
  {
   "cell_type": "code",
   "execution_count": null,
   "id": "91b19046-04e1-4eae-9dbb-d9a62b15902e",
   "metadata": {},
   "outputs": [],
   "source": []
  },
  {
   "cell_type": "code",
   "execution_count": null,
   "id": "79a188d1-ff13-4b37-9367-598eff22f62e",
   "metadata": {},
   "outputs": [],
   "source": []
  },
  {
   "cell_type": "code",
   "execution_count": null,
   "id": "f8a7e09c-900d-4c19-9299-1f5911878ee7",
   "metadata": {},
   "outputs": [],
   "source": []
  }
 ],
 "metadata": {
  "kernelspec": {
   "display_name": "Python 3 (ipykernel)",
   "language": "python",
   "name": "python3"
  },
  "language_info": {
   "codemirror_mode": {
    "name": "ipython",
    "version": 3
   },
   "file_extension": ".py",
   "mimetype": "text/x-python",
   "name": "python",
   "nbconvert_exporter": "python",
   "pygments_lexer": "ipython3",
   "version": "3.12.3"
  }
 },
 "nbformat": 4,
 "nbformat_minor": 5
}
